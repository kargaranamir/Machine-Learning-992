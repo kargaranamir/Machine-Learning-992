{
 "cells": [
  {
   "cell_type": "code",
   "execution_count": 1,
   "metadata": {},
   "outputs": [],
   "source": [
    "import pandas as pd\n",
    "import numpy as np\n",
    "import re"
   ]
  },
  {
   "cell_type": "code",
   "execution_count": 2,
   "metadata": {},
   "outputs": [],
   "source": [
    "from gensim import models\n",
    "from gensim.models import Word2Vec\n",
    "from sklearn.metrics import accuracy_score, classification_report, confusion_matrix, accuracy_score\n",
    "from sklearn.feature_extraction.text import CountVectorizer\n",
    "from sklearn.preprocessing import LabelBinarizer\n",
    "from sklearn.model_selection import train_test_split, GridSearchCV\n",
    "from sklearn.linear_model import LogisticRegression\n",
    "from sklearn.neural_network import MLPClassifier\n",
    "import pickle\n",
    "\n",
    "import nltk\n",
    "from nltk.corpus import stopwords\n",
    "from nltk import word_tokenize          \n",
    "from nltk.stem import WordNetLemmatizer\n",
    "from stop_words import get_stop_words\n",
    "from nltk.corpus import stopwords\n",
    "from nltk import pos_tag\n",
    "\n",
    "# ! pip install stopwords\n",
    "# ! pip install stop_words\n",
    "# ! pip install gensim\n",
    "# ! pip install python-Levenshtein\n",
    "# ! pip install pickle-mixin\n",
    "\n",
    "# nltk.download('punkt')\n",
    "# nltk.download('averaged_perceptron_tagger')\n",
    "# nltk.download('stopwords')\n",
    "# nltk.download('wordnet')"
   ]
  },
  {
   "cell_type": "code",
   "execution_count": 3,
   "metadata": {},
   "outputs": [],
   "source": [
    "import warnings\n",
    "warnings.filterwarnings('ignore')"
   ]
  },
  {
   "cell_type": "code",
   "execution_count": 4,
   "metadata": {},
   "outputs": [],
   "source": [
    "def analysis(labels, predictions):\n",
    "    print(\"Report Classification: \\n\", classification_report(labels, predictions))\n",
    "    print(\"Matrix Confusion: \\n\", confusion_matrix(labels, predictions))\n",
    "    print(\"Accuracy: \\n\", accuracy_score(labels,predictions))"
   ]
  },
  {
   "cell_type": "markdown",
   "metadata": {},
   "source": [
    "### read_data"
   ]
  },
  {
   "cell_type": "code",
   "execution_count": 5,
   "metadata": {},
   "outputs": [],
   "source": [
    "data_set2 = pd.read_csv('dataset2.csv')\n",
    "\n",
    "X2 = data_set2['comment']\n",
    "Y2 = data_set2['sentiment']\n",
    "\n",
    "\n",
    "# label binarization\n",
    "label_binarizer = LabelBinarizer()\n",
    "Y2 = label_binarizer.fit_transform(Y2)\n",
    "Y2 = np.ravel(Y2)"
   ]
  },
  {
   "cell_type": "markdown",
   "metadata": {},
   "source": [
    "### pre-processing functions"
   ]
  },
  {
   "cell_type": "code",
   "execution_count": 6,
   "metadata": {},
   "outputs": [],
   "source": [
    "X_train2, X_val2, Y_train2, Y_val2 = train_test_split(X2, Y2, test_size=0.1, random_state=5)"
   ]
  },
  {
   "cell_type": "code",
   "execution_count": 7,
   "metadata": {},
   "outputs": [],
   "source": [
    "stop_words = list(get_stop_words('en'))\n",
    "nltk_words = list(stopwords.words('english'))\n",
    "stop_words.extend(nltk_words)\n",
    "\n",
    "def lemmatize(text):\n",
    "    list_pos = 0\n",
    "    cleaned_str = ''\n",
    "    lmtzr = WordNetLemmatizer()\n",
    "    \n",
    "    tagged_words = pos_tag(text)\n",
    "    for word in tagged_words:\n",
    "        if 'v' in word[1].lower():\n",
    "            lemma = lmtzr.lemmatize(word[0], pos='v')\n",
    "        else:\n",
    "            lemma = lmtzr.lemmatize(word[0], pos='n')\n",
    "        if list_pos == 0:\n",
    "            cleaned_str = lemma\n",
    "        else:\n",
    "            cleaned_str = cleaned_str + ' ' + lemma\n",
    "        list_pos += 1\n",
    "    return cleaned_str\n",
    "\n",
    "def clean(text):\n",
    "    text = str(text).lower() #lowercase\n",
    "    text = re.sub(r'\\bid\\b', 'i would', text) #start abbreviation\n",
    "    text = re.sub(r'\\bive\\b', 'i have', text)\n",
    "    text = re.sub(r'\\bim\\b', 'i am', text)\n",
    "    text = re.sub(r'\\bcant\\b', 'can not', text)\n",
    "    text = re.sub(r'\\bdont\\b', 'do not', text)\n",
    "    text = re.sub(r'\\bwont\\b', 'will not', text)\n",
    "    text = re.sub(r'\\bthats\\b', 'that is', text) #end abbreviation\n",
    "    text = re.sub('[0-9]+', '', text) # delete numbers\n",
    "    text = re.sub(r'[^\\x00-\\x7F]+',' ', text) #remove non-ascii\n",
    "    text = re.sub('[<>{}=~.,،:\\\\!?\\\\-()\\\\[\\\\]#/@\"]+|[_x000D_]+|\\u200c+|[\\r\\n]', ' ', text) #remove punctuations\n",
    "    word_list = nltk.word_tokenize(text)\n",
    "    text = lemmatize(word_list)\n",
    "    word_list = text.split()\n",
    "    word_list = list(filter(lambda word: word not in stop_words, word_list)) # delete stopwords\n",
    "    word_list = [w for w in word_list if len(w)>1] # delete len = 1\n",
    "    return word_list\n"
   ]
  },
  {
   "cell_type": "markdown",
   "metadata": {},
   "source": [
    "# W2V"
   ]
  },
  {
   "cell_type": "code",
   "execution_count": 8,
   "metadata": {},
   "outputs": [],
   "source": [
    "corpus_text_train2 = '\\n'.join(X_train2) # just for X_train fits\n",
    "sentences_train2 = corpus_text_train2.split('\\n')\n",
    "sentences_train2 = [clean(line) for line in sentences_train2]\n",
    "\n",
    "model = Word2Vec(sentences_train2, window=5, min_count=3, workers=4)\n",
    "vectors = model.wv\n",
    "\n",
    "w2v_sentences_train2 = []\n",
    "for index in range(len(sentences_train2)):\n",
    "    temp = []\n",
    "    for word in sentences_train2[index]:\n",
    "        try:\n",
    "            temp.append(vectors[word])\n",
    "        except:\n",
    "            pass\n",
    "    w2v_sentences_train2.append(np.mean(temp, axis=0))\n",
    "    \n",
    "    \n",
    "corpus_text_val2 = '\\n'.join(X_val2) # just apply for X_test\n",
    "sentences_val2 = corpus_text_val2.split('\\n')\n",
    "sentences_val2 = [clean(line) for line in sentences_val2]\n",
    "\n",
    "w2v_sentences_val2 = []\n",
    "for index in range(len(sentences_val2)):\n",
    "    temp = []\n",
    "    for word in sentences_val2[index]:\n",
    "        try:\n",
    "            temp.append(vectors[word])\n",
    "        except:\n",
    "            pass\n",
    "    w2v_sentences_val2.append(np.mean(temp, axis=0))"
   ]
  },
  {
   "cell_type": "markdown",
   "metadata": {},
   "source": [
    "## MLP: W2V"
   ]
  },
  {
   "cell_type": "code",
   "execution_count": 9,
   "metadata": {},
   "outputs": [],
   "source": [
    "parameter_space = {\n",
    "    'hidden_layer_sizes': [(50,50,50), (50,100,50),(10,30,10),(20,), (50,), (100,), (150,)],\n",
    "    'activation': ['tanh', 'relu'],\n",
    "    'solver': ['sgd', 'adam'],\n",
    "    'alpha': [0.0001, 0.05, 0.1],\n",
    "    'learning_rate': ['constant','adaptive'],\n",
    "}\n",
    "\n",
    "best_param = {\n",
    "    'hidden_layer_sizes': parameter_space['hidden_layer_sizes'][-1],\n",
    "    'activation': parameter_space['activation'][-1],\n",
    "    'solver': parameter_space['solver'][-1],\n",
    "    'alpha': parameter_space['alpha'][-1],\n",
    "    'learning_rate': parameter_space['learning_rate'][-1],\n",
    "}\n",
    "\n",
    "best_score = 0"
   ]
  },
  {
   "cell_type": "code",
   "execution_count": 10,
   "metadata": {},
   "outputs": [
    {
     "name": "stdout",
     "output_type": "stream",
     "text": [
      "0.6\n",
      "{'hidden_layer_sizes': (20,), 'activation': 'relu', 'solver': 'adam', 'alpha': 0.1, 'learning_rate': 'adaptive'}\n"
     ]
    }
   ],
   "source": [
    "for hls in parameter_space['hidden_layer_sizes']:\n",
    "    for ac in parameter_space['activation']:\n",
    "        for so in parameter_space['solver']:\n",
    "            for al in parameter_space['alpha']:\n",
    "                for lr in parameter_space['learning_rate']:\n",
    "                    clf = MLPClassifier(hidden_layer_sizes=hls,learning_rate=lr,alpha=al,solver=so,activation=ac,max_iter=100)\n",
    "                    clf.fit(w2v_sentences_train2, Y_train2) \n",
    "                    score = accuracy_score(Y_val2, clf.predict(w2v_sentences_val2))\n",
    "                    \n",
    "                    if score > best_score:\n",
    "                        best_score = score\n",
    "                        best_param['hidden_layer_sizes'] = hls\n",
    "                        best_param['activation'] = ac\n",
    "                        best_param['solver'] = so\n",
    "                        best_param['alpha'] = al\n",
    "                        best_param['learning_rate'] = lr\n",
    "print(best_score)\n",
    "print(best_param)"
   ]
  },
  {
   "cell_type": "code",
   "execution_count": 11,
   "metadata": {},
   "outputs": [
    {
     "name": "stdout",
     "output_type": "stream",
     "text": [
      "Report Classification: \n",
      "               precision    recall  f1-score   support\n",
      "\n",
      "           0       0.44      0.72      0.55        25\n",
      "           1       0.22      0.08      0.12        25\n",
      "\n",
      "    accuracy                           0.40        50\n",
      "   macro avg       0.33      0.40      0.33        50\n",
      "weighted avg       0.33      0.40      0.33        50\n",
      "\n",
      "Matrix Confusion: \n",
      " [[18  7]\n",
      " [23  2]]\n",
      "Accuracy: \n",
      " 0.4\n"
     ]
    }
   ],
   "source": [
    "analysis(Y_val2, clf.predict(w2v_sentences_val2))"
   ]
  },
  {
   "cell_type": "markdown",
   "metadata": {},
   "source": [
    "## Fine Tune on pretuned MLP"
   ]
  },
  {
   "cell_type": "markdown",
   "metadata": {},
   "source": [
    "### W2V from GoogleNews-vectors to make same size inputs"
   ]
  },
  {
   "cell_type": "code",
   "execution_count": 12,
   "metadata": {},
   "outputs": [],
   "source": [
    "corpus_text_train2 = '\\n'.join(X_train2) # just for X_train fits\n",
    "sentences_train2 = corpus_text_train2.split('\\n')\n",
    "sentences_train2 = [clean(line) for line in sentences_train2]\n",
    "\n",
    "vectors = models.KeyedVectors.load_word2vec_format('./GoogleNews-vectors-negative300.bin', binary=True)\n",
    "\n",
    "w2v_sentences_train2 = []\n",
    "for index in range(len(sentences_train2)):\n",
    "    temp = []\n",
    "    for word in sentences_train2[index]:\n",
    "        try:\n",
    "            temp.append(vectors[word])\n",
    "        except:\n",
    "            pass\n",
    "    w2v_sentences_train2.append(np.mean(temp, axis=0))\n",
    "    \n",
    "    \n",
    "corpus_text_val2 = '\\n'.join(X_val2) # just apply for X_test\n",
    "sentences_val2 = corpus_text_val2.split('\\n')\n",
    "sentences_val2 = [clean(line) for line in sentences_val2]\n",
    "\n",
    "w2v_sentences_val2 = []\n",
    "for index in range(len(sentences_val2)):\n",
    "    temp = []\n",
    "    for word in sentences_val2[index]:\n",
    "        try:\n",
    "            temp.append(vectors[word])\n",
    "        except:\n",
    "            pass\n",
    "    w2v_sentences_val2.append(np.mean(temp, axis=0))"
   ]
  },
  {
   "cell_type": "code",
   "execution_count": 13,
   "metadata": {},
   "outputs": [],
   "source": [
    "filename = 'best.pkl'\n",
    "loaded_model = pickle.load(open(filename, 'rb'))"
   ]
  },
  {
   "cell_type": "code",
   "execution_count": 14,
   "metadata": {},
   "outputs": [],
   "source": [
    "loaded_model = loaded_model.partial_fit(w2v_sentences_train2, Y_train2)\n",
    "loaded_model = loaded_model.partial_fit(w2v_sentences_train2, Y_train2)\n",
    "loaded_model = loaded_model.partial_fit(w2v_sentences_train2, Y_train2)"
   ]
  },
  {
   "cell_type": "code",
   "execution_count": 15,
   "metadata": {},
   "outputs": [
    {
     "name": "stdout",
     "output_type": "stream",
     "text": [
      "Report Classification: \n",
      "               precision    recall  f1-score   support\n",
      "\n",
      "           0       0.95      0.72      0.82        25\n",
      "           1       0.77      0.96      0.86        25\n",
      "\n",
      "    accuracy                           0.84        50\n",
      "   macro avg       0.86      0.84      0.84        50\n",
      "weighted avg       0.86      0.84      0.84        50\n",
      "\n",
      "Matrix Confusion: \n",
      " [[18  7]\n",
      " [ 1 24]]\n",
      "Accuracy: \n",
      " 0.84\n"
     ]
    }
   ],
   "source": [
    "analysis(Y_val2, loaded_model.predict(w2v_sentences_val2))"
   ]
  }
 ],
 "metadata": {
  "kernelspec": {
   "display_name": "Python 3",
   "language": "python",
   "name": "python3"
  },
  "language_info": {
   "codemirror_mode": {
    "name": "ipython",
    "version": 3
   },
   "file_extension": ".py",
   "mimetype": "text/x-python",
   "name": "python",
   "nbconvert_exporter": "python",
   "pygments_lexer": "ipython3",
   "version": "3.8.10"
  }
 },
 "nbformat": 4,
 "nbformat_minor": 2
}
