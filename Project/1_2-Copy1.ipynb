{
 "cells": [
  {
   "cell_type": "code",
   "execution_count": 1,
   "metadata": {},
   "outputs": [],
   "source": [
    "import pandas as pd\n",
    "import numpy as np\n",
    "import re"
   ]
  },
  {
   "cell_type": "code",
   "execution_count": 2,
   "metadata": {},
   "outputs": [],
   "source": [
    "from gensim.models import Word2Vec\n",
    "from sklearn.metrics import accuracy_score, classification_report, confusion_matrix, accuracy_score\n",
    "from sklearn.feature_extraction.text import CountVectorizer\n",
    "from sklearn.preprocessing import LabelBinarizer\n",
    "from sklearn.model_selection import train_test_split, GridSearchCV\n",
    "from sklearn.neighbors import KNeighborsClassifier\n",
    "from sklearn.linear_model import LogisticRegression\n",
    "\n",
    "import pickle\n",
    "\n",
    "from sklearn.svm import SVC\n",
    "\n",
    "import nltk\n",
    "from nltk.corpus import stopwords\n",
    "from nltk import word_tokenize          \n",
    "from nltk.stem import WordNetLemmatizer\n",
    "from stop_words import get_stop_words\n",
    "from nltk.corpus import stopwords\n",
    "from nltk import pos_tag\n",
    "\n",
    "# ! pip install stopwords\n",
    "# ! pip install stop_words\n",
    "# ! pip install gensim\n",
    "# ! pip install python-Levenshtein\n",
    "# ! pip install pickle-mixin\n",
    "\n",
    "# nltk.download('punkt')\n",
    "# nltk.download('averaged_perceptron_tagger')\n",
    "# nltk.download('stopwords')\n",
    "# nltk.download('wordnet')"
   ]
  },
  {
   "cell_type": "code",
   "execution_count": 3,
   "metadata": {},
   "outputs": [],
   "source": [
    "import warnings\n",
    "warnings.filterwarnings('ignore')"
   ]
  },
  {
   "cell_type": "code",
   "execution_count": 4,
   "metadata": {},
   "outputs": [],
   "source": [
    "MAX_BOW_SIZE = 1000"
   ]
  },
  {
   "cell_type": "code",
   "execution_count": 5,
   "metadata": {},
   "outputs": [],
   "source": [
    "def analysis(labels, predictions):\n",
    "    print(\"Report Classification: \\n\", classification_report(labels, predictions, target_names=['positive', 'negative']))\n",
    "    print(\"Matrix Confusion: \\n\", confusion_matrix(labels, predictions))\n",
    "    print(\"Accuracy: \\n\", accuracy_score(labels,predictions))"
   ]
  },
  {
   "cell_type": "markdown",
   "metadata": {},
   "source": [
    "# Part1"
   ]
  },
  {
   "cell_type": "code",
   "execution_count": 6,
   "metadata": {},
   "outputs": [],
   "source": [
    "data_set = pd.read_csv('dataset.csv')\n",
    "\n",
    "X = data_set['comment']\n",
    "Y = data_set['sentiment']\n",
    "\n",
    "\n",
    "# label binarization\n",
    "label_binarizer = LabelBinarizer()\n",
    "Y = label_binarizer.fit_transform(Y)\n",
    "Y = np.ravel(Y)"
   ]
  },
  {
   "cell_type": "markdown",
   "metadata": {},
   "source": [
    "# Part 2, 3"
   ]
  },
  {
   "cell_type": "code",
   "execution_count": 7,
   "metadata": {},
   "outputs": [],
   "source": [
    "X_train, X_test, Y_train, Y_test = train_test_split(X, Y, test_size=0.2, random_state=5)"
   ]
  },
  {
   "cell_type": "code",
   "execution_count": 8,
   "metadata": {},
   "outputs": [],
   "source": [
    "stop_words = list(get_stop_words('en'))\n",
    "nltk_words = list(stopwords.words('english'))\n",
    "stop_words.extend(nltk_words)\n",
    "\n",
    "def lemmatize(text):\n",
    "    list_pos = 0\n",
    "    cleaned_str = ''\n",
    "    lmtzr = WordNetLemmatizer()\n",
    "    \n",
    "    tagged_words = pos_tag(text)\n",
    "    for word in tagged_words:\n",
    "        if 'v' in word[1].lower():\n",
    "            lemma = lmtzr.lemmatize(word[0], pos='v')\n",
    "        else:\n",
    "            lemma = lmtzr.lemmatize(word[0], pos='n')\n",
    "        if list_pos == 0:\n",
    "            cleaned_str = lemma\n",
    "        else:\n",
    "            cleaned_str = cleaned_str + ' ' + lemma\n",
    "        list_pos += 1\n",
    "    return cleaned_str\n",
    "\n",
    "def clean(text):\n",
    "    text = str(text).lower() #lowercase\n",
    "    text = re.sub(r'\\bid\\b', 'i would', text) #start abbreviation\n",
    "    text = re.sub(r'\\bive\\b', 'i have', text)\n",
    "    text = re.sub(r'\\bim\\b', 'i am', text)\n",
    "    text = re.sub(r'\\bcant\\b', 'can not', text)\n",
    "    text = re.sub(r'\\bdont\\b', 'do not', text)\n",
    "    text = re.sub(r'\\bwont\\b', 'will not', text)\n",
    "    text = re.sub(r'\\bthats\\b', 'that is', text) #end abbreviation\n",
    "    text = re.sub('[0-9]+', '', text) # delete numbers\n",
    "    text = re.sub(r'[^\\x00-\\x7F]+',' ', text) #remove non-ascii\n",
    "    text = re.sub('[<>{}=~.,،:\\\\!?\\\\-()\\\\[\\\\]#/@\"]+|[_x000D_]+|\\u200c+|[\\r\\n]', ' ', text) #remove punctuations\n",
    "    word_list = nltk.word_tokenize(text)\n",
    "    text = lemmatize(word_list)\n",
    "    word_list = text.split()\n",
    "    word_list = list(filter(lambda word: word not in stop_words, word_list)) # delete stopwords\n",
    "    word_list = [w for w in word_list if len(w)>1] # delete len = 1\n",
    "    return word_list\n"
   ]
  },
  {
   "cell_type": "markdown",
   "metadata": {},
   "source": [
    "### BOW"
   ]
  },
  {
   "cell_type": "code",
   "execution_count": 9,
   "metadata": {},
   "outputs": [],
   "source": [
    "count_vectorizer = CountVectorizer(tokenizer=lambda text: clean(text), max_features=MAX_BOW_SIZE)"
   ]
  },
  {
   "cell_type": "code",
   "execution_count": 10,
   "metadata": {},
   "outputs": [],
   "source": [
    "cv_X_train = count_vectorizer.fit_transform(X_train) #fit only over train data \n",
    "cv_X_test = count_vectorizer.transform(X_test) #apply not fit!"
   ]
  },
  {
   "cell_type": "markdown",
   "metadata": {},
   "source": [
    "### W2V"
   ]
  },
  {
   "cell_type": "code",
   "execution_count": 11,
   "metadata": {},
   "outputs": [],
   "source": [
    "corpus_text_train = '\\n'.join(X_train) # just for X_train fits\n",
    "sentences_train = corpus_text_train.split('\\n')\n",
    "sentences_train = [clean(line) for line in sentences_train]\n",
    "\n",
    "model = Word2Vec(sentences_train, window=5, min_count=3, workers=4)\n",
    "vectors = model.wv\n",
    "\n",
    "w2v_sentences_train = []\n",
    "for index in range(len(sentences_train)):\n",
    "    temp = []\n",
    "    for word in sentences_train[index]:\n",
    "        try:\n",
    "            temp.append(vectors[word])\n",
    "        except:\n",
    "            pass\n",
    "    w2v_sentences_train.append(np.mean(temp, axis=0))\n",
    "    \n",
    "    \n",
    "corpus_text_test = '\\n'.join(X_test) # just apply for X_test\n",
    "sentences_test = corpus_text_test.split('\\n')\n",
    "sentences_test = [clean(line) for line in sentences_test]\n",
    "\n",
    "w2v_sentences_test = []\n",
    "for index in range(len(sentences_test)):\n",
    "    temp = []\n",
    "    for word in sentences_test[index]:\n",
    "        try:\n",
    "            temp.append(vectors[word])\n",
    "        except:\n",
    "            pass\n",
    "    w2v_sentences_test.append(np.mean(temp, axis=0))"
   ]
  },
  {
   "cell_type": "markdown",
   "metadata": {},
   "source": [
    "### knn: BOW"
   ]
  },
  {
   "cell_type": "code",
   "execution_count": 12,
   "metadata": {},
   "outputs": [
    {
     "name": "stdout",
     "output_type": "stream",
     "text": [
      "-------KNN-------:\n",
      "Best parameters set found on development set:\n",
      "{'n_neighbors': 28, 'weights': 'distance'}\n",
      "KNeighborsClassifier(n_neighbors=28, weights='distance')\n",
      "Report Classification: \n",
      "               precision    recall  f1-score   support\n",
      "\n",
      "    positive       0.66      0.69      0.68      4467\n",
      "    negative       0.68      0.66      0.67      4533\n",
      "\n",
      "    accuracy                           0.67      9000\n",
      "   macro avg       0.67      0.67      0.67      9000\n",
      "weighted avg       0.67      0.67      0.67      9000\n",
      "\n",
      "Matrix Confusion: \n",
      " [[3075 1392]\n",
      " [1559 2974]]\n",
      "Accuracy: \n",
      " 0.6721111111111111\n"
     ]
    }
   ],
   "source": [
    "k_range = list(range(1,31))\n",
    "weight_options = [\"uniform\", \"distance\"]\n",
    "\n",
    "param_grid = dict(n_neighbors = k_range, weights = weight_options)\n",
    "knn = KNeighborsClassifier()\n",
    "\n",
    "clf = GridSearchCV(knn, param_grid, scoring ='accuracy')\n",
    "clf.fit(cv_X_train,Y_train)\n",
    "\n",
    "print(\"-------KNN-------:\")\n",
    "print(\"Best parameters set found on development set:\")\n",
    "print (clf.best_params_)\n",
    "print (clf.best_estimator_)\n",
    "Y_test_pred = clf.predict(cv_X_test)\n",
    "analysis(Y_test, Y_test_pred)"
   ]
  },
  {
   "cell_type": "code",
   "execution_count": 13,
   "metadata": {},
   "outputs": [],
   "source": [
    "filename = 'Bow_Knn.pkl'\n",
    "pickle.dump(clf, open(filename, 'wb'))"
   ]
  },
  {
   "cell_type": "markdown",
   "metadata": {},
   "source": [
    "### knn: W2V"
   ]
  },
  {
   "cell_type": "code",
   "execution_count": 14,
   "metadata": {},
   "outputs": [
    {
     "name": "stdout",
     "output_type": "stream",
     "text": [
      "-------KNN-------:\n",
      "Best parameters set found on development set:\n",
      "{'n_neighbors': 24, 'weights': 'distance'}\n",
      "KNeighborsClassifier(n_neighbors=24, weights='distance')\n",
      "Report Classification: \n",
      "               precision    recall  f1-score   support\n",
      "\n",
      "    positive       0.80      0.84      0.82      4467\n",
      "    negative       0.83      0.79      0.81      4533\n",
      "\n",
      "    accuracy                           0.82      9000\n",
      "   macro avg       0.82      0.82      0.82      9000\n",
      "weighted avg       0.82      0.82      0.82      9000\n",
      "\n",
      "Matrix Confusion: \n",
      " [[3748  719]\n",
      " [ 933 3600]]\n",
      "Accuracy: \n",
      " 0.8164444444444444\n"
     ]
    }
   ],
   "source": [
    "k_range = list(range(1,31))\n",
    "weight_options = [\"uniform\", \"distance\"]\n",
    "\n",
    "param_grid = dict(n_neighbors = k_range, weights = weight_options)\n",
    "knn = KNeighborsClassifier()\n",
    "\n",
    "clf = GridSearchCV(knn, param_grid, scoring ='accuracy')\n",
    "clf.fit(w2v_sentences_train,Y_train)\n",
    "\n",
    "print(\"-------KNN-------:\")\n",
    "print(\"Best parameters set found on development set:\")\n",
    "print (clf.best_params_)\n",
    "print (clf.best_estimator_)\n",
    "Y_test_pred = clf.predict(w2v_sentences_test)\n",
    "analysis(Y_test, Y_test_pred)"
   ]
  },
  {
   "cell_type": "code",
   "execution_count": 15,
   "metadata": {},
   "outputs": [],
   "source": [
    "filename = 'W2v_Knn.pkl'\n",
    "pickle.dump(clf, open(filename, 'wb'))"
   ]
  },
  {
   "cell_type": "markdown",
   "metadata": {},
   "source": [
    "### logistic regression: Bow\n"
   ]
  },
  {
   "cell_type": "code",
   "execution_count": 16,
   "metadata": {},
   "outputs": [
    {
     "name": "stdout",
     "output_type": "stream",
     "text": [
      "-------LR-------:\n",
      "Best parameters set found on development set:\n",
      "{'C': 0.1, 'penalty': 'l2'}\n",
      "LogisticRegression(C=0.1)\n",
      "Report Classification: \n",
      "               precision    recall  f1-score   support\n",
      "\n",
      "    positive       0.87      0.85      0.86      4467\n",
      "    negative       0.86      0.88      0.87      4533\n",
      "\n",
      "    accuracy                           0.86      9000\n",
      "   macro avg       0.86      0.86      0.86      9000\n",
      "weighted avg       0.86      0.86      0.86      9000\n",
      "\n",
      "Matrix Confusion: \n",
      " [[3806  661]\n",
      " [ 560 3973]]\n",
      "Accuracy: \n",
      " 0.8643333333333333\n"
     ]
    }
   ],
   "source": [
    "grid_values = {'penalty': ['l2'], 'C': [0.1, 1,10, 100]}\n",
    "clf = GridSearchCV(LogisticRegression(), param_grid=grid_values, scoring = 'accuracy')\n",
    "\n",
    "clf.fit(cv_X_train,Y_train)\n",
    "\n",
    "print(\"-------LR-------:\")\n",
    "print(\"Best parameters set found on development set:\")\n",
    "print (clf.best_params_)\n",
    "print (clf.best_estimator_)\n",
    "Y_test_pred = clf.predict(cv_X_test)\n",
    "analysis(Y_test, Y_test_pred)"
   ]
  },
  {
   "cell_type": "code",
   "execution_count": 17,
   "metadata": {},
   "outputs": [],
   "source": [
    "filename = 'Bow_LR.pkl'\n",
    "pickle.dump(clf, open(filename, 'wb'))"
   ]
  },
  {
   "cell_type": "markdown",
   "metadata": {},
   "source": [
    "### logistic regression: W2V\n"
   ]
  },
  {
   "cell_type": "code",
   "execution_count": 18,
   "metadata": {},
   "outputs": [
    {
     "name": "stdout",
     "output_type": "stream",
     "text": [
      "-------LR-------:\n",
      "Best parameters set found on development set:\n",
      "{'C': 1, 'penalty': 'l2'}\n",
      "LogisticRegression(C=1)\n",
      "Report Classification: \n",
      "               precision    recall  f1-score   support\n",
      "\n",
      "    positive       0.86      0.85      0.85      4467\n",
      "    negative       0.85      0.86      0.86      4533\n",
      "\n",
      "    accuracy                           0.86      9000\n",
      "   macro avg       0.86      0.86      0.86      9000\n",
      "weighted avg       0.86      0.86      0.86      9000\n",
      "\n",
      "Matrix Confusion: \n",
      " [[3787  680]\n",
      " [ 620 3913]]\n",
      "Accuracy: \n",
      " 0.8555555555555555\n"
     ]
    }
   ],
   "source": [
    "grid_values = {'penalty': ['l2'], 'C': [0.1, 1,10, 100]}\n",
    "clf = GridSearchCV(LogisticRegression(), param_grid=grid_values, scoring = 'accuracy')\n",
    "\n",
    "clf.fit(w2v_sentences_train,Y_train)\n",
    "\n",
    "print(\"-------LR-------:\")\n",
    "print(\"Best parameters set found on development set:\")\n",
    "print (clf.best_params_)\n",
    "print (clf.best_estimator_)\n",
    "Y_test_pred = clf.predict(w2v_sentences_test)\n",
    "analysis(Y_test, Y_test_pred)"
   ]
  },
  {
   "cell_type": "code",
   "execution_count": 19,
   "metadata": {},
   "outputs": [],
   "source": [
    "filename = 'W2V_LR.pkl'\n",
    "pickle.dump(clf, open(filename, 'wb'))"
   ]
  },
  {
   "cell_type": "markdown",
   "metadata": {},
   "source": [
    "### svm: BOW"
   ]
  },
  {
   "cell_type": "code",
   "execution_count": 20,
   "metadata": {},
   "outputs": [
    {
     "name": "stdout",
     "output_type": "stream",
     "text": [
      "-------SVM-------:\n",
      "Best parameters set found on development set:\n",
      "{'C': 1, 'kernel': 'rbf'}\n",
      "Report Classification: \n",
      "               precision    recall  f1-score   support\n",
      "\n",
      "    positive       0.87      0.84      0.86      4467\n",
      "    negative       0.85      0.88      0.86      4533\n",
      "\n",
      "    accuracy                           0.86      9000\n",
      "   macro avg       0.86      0.86      0.86      9000\n",
      "weighted avg       0.86      0.86      0.86      9000\n",
      "\n",
      "Matrix Confusion: \n",
      " [[3772  695]\n",
      " [ 557 3976]]\n",
      "Accuracy: \n",
      " 0.8608888888888889\n"
     ]
    }
   ],
   "source": [
    "tuned_parameters = [{'kernel': ['poly', 'rbf'], 'C': [1, 10]}]\n",
    "\n",
    "clf = GridSearchCV(SVC(), tuned_parameters, scoring ='accuracy')\n",
    "clf.fit(cv_X_train, Y_train)\n",
    "\n",
    "print(\"-------SVM-------:\")\n",
    "print(\"Best parameters set found on development set:\")\n",
    "print(clf.best_params_)\n",
    "Y_test_pred = clf.predict(cv_X_test)\n",
    "analysis(Y_test, Y_test_pred)\n"
   ]
  },
  {
   "cell_type": "code",
   "execution_count": 21,
   "metadata": {},
   "outputs": [],
   "source": [
    "filename = 'Bow_svm.pkl'\n",
    "pickle.dump(clf, open(filename, 'wb'))"
   ]
  },
  {
   "cell_type": "markdown",
   "metadata": {},
   "source": [
    "### svm: W2V"
   ]
  },
  {
   "cell_type": "code",
   "execution_count": 22,
   "metadata": {},
   "outputs": [
    {
     "name": "stdout",
     "output_type": "stream",
     "text": [
      "-------SVM-------:\n",
      "Best parameters set found on development set:\n",
      "{'C': 10, 'kernel': 'rbf'}\n",
      "Report Classification: \n",
      "               precision    recall  f1-score   support\n",
      "\n",
      "    positive       0.87      0.85      0.86      4467\n",
      "    negative       0.86      0.87      0.86      4533\n",
      "\n",
      "    accuracy                           0.86      9000\n",
      "   macro avg       0.86      0.86      0.86      9000\n",
      "weighted avg       0.86      0.86      0.86      9000\n",
      "\n",
      "Matrix Confusion: \n",
      " [[3818  649]\n",
      " [ 589 3944]]\n",
      "Accuracy: \n",
      " 0.8624444444444445\n"
     ]
    }
   ],
   "source": [
    "tuned_parameters = [{'kernel': ['poly','rbf'], 'C': [1, 10]}]\n",
    "\n",
    "clf = GridSearchCV(SVC(), tuned_parameters, scoring ='accuracy')\n",
    "clf.fit(w2v_sentences_train, Y_train)\n",
    "\n",
    "print(\"-------SVM-------:\")\n",
    "print(\"Best parameters set found on development set:\")\n",
    "print(clf.best_params_)\n",
    "Y_test_pred = clf.predict(w2v_sentences_test)\n",
    "analysis(Y_test, Y_test_pred)\n"
   ]
  },
  {
   "cell_type": "code",
   "execution_count": 23,
   "metadata": {},
   "outputs": [],
   "source": [
    "filename = 'W2V_svm.pkl'\n",
    "pickle.dump(clf, open(filename, 'wb'))"
   ]
  }
 ],
 "metadata": {
  "kernelspec": {
   "display_name": "Python 3",
   "language": "python",
   "name": "python3"
  },
  "language_info": {
   "codemirror_mode": {
    "name": "ipython",
    "version": 3
   },
   "file_extension": ".py",
   "mimetype": "text/x-python",
   "name": "python",
   "nbconvert_exporter": "python",
   "pygments_lexer": "ipython3",
   "version": "3.6.5"
  }
 },
 "nbformat": 4,
 "nbformat_minor": 2
}
