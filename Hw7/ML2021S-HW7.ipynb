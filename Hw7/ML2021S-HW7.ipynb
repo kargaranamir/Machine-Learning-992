{
 "cells": [
  {
   "cell_type": "markdown",
   "metadata": {
    "deletable": false,
    "editable": false,
    "heading_collapsed": true,
    "run_control": {
     "frozen": true
    }
   },
   "source": [
    "# CE-40717: Machine Learning"
   ]
  },
  {
   "cell_type": "markdown",
   "metadata": {
    "deletable": false,
    "editable": false,
    "heading_collapsed": true,
    "hidden": true,
    "run_control": {
     "frozen": true
    }
   },
   "source": [
    "## HW7-Regression"
   ]
  },
  {
   "cell_type": "markdown",
   "metadata": {
    "heading_collapsed": true,
    "hidden": true
   },
   "source": [
    "### Please fill this part\n",
    "\n",
    "\n",
    "1.   Full Name: Amirhossein kargaran\n",
    "2.   Student Number: 99201119"
   ]
  },
  {
   "cell_type": "code",
   "execution_count": 1,
   "metadata": {},
   "outputs": [],
   "source": [
    "import warnings\n",
    "warnings.filterwarnings('ignore')"
   ]
  },
  {
   "cell_type": "code",
   "execution_count": 2,
   "metadata": {
    "hidden": true
   },
   "outputs": [],
   "source": [
    "# You are not allowed to import other packages.\n",
    "\n",
    "import numpy as np\n",
    "import pandas as pd\n",
    "\n",
    "from matplotlib import pyplot as plt\n",
    "from sklearn.metrics import mean_squared_error"
   ]
  },
  {
   "cell_type": "markdown",
   "metadata": {
    "deletable": false,
    "editable": false,
    "heading_collapsed": true,
    "hidden": true,
    "run_control": {
     "frozen": true
    }
   },
   "source": [
    "### Part1:\n",
    "Consider the dataset which has been given to you. Split the dataset into the `training dataset` and `test dataset`. You can use `80%` of the data for training and the rest for testing."
   ]
  },
  {
   "cell_type": "code",
   "execution_count": 3,
   "metadata": {},
   "outputs": [
    {
     "data": {
      "text/html": [
       "<div>\n",
       "<style scoped>\n",
       "    .dataframe tbody tr th:only-of-type {\n",
       "        vertical-align: middle;\n",
       "    }\n",
       "\n",
       "    .dataframe tbody tr th {\n",
       "        vertical-align: top;\n",
       "    }\n",
       "\n",
       "    .dataframe thead th {\n",
       "        text-align: right;\n",
       "    }\n",
       "</style>\n",
       "<table border=\"1\" class=\"dataframe\">\n",
       "  <thead>\n",
       "    <tr style=\"text-align: right;\">\n",
       "      <th></th>\n",
       "      <th>X</th>\n",
       "      <th>Y</th>\n",
       "    </tr>\n",
       "  </thead>\n",
       "  <tbody>\n",
       "    <tr>\n",
       "      <th>0</th>\n",
       "      <td>1.867470</td>\n",
       "      <td>-1.210867</td>\n",
       "    </tr>\n",
       "    <tr>\n",
       "      <th>1</th>\n",
       "      <td>1.168675</td>\n",
       "      <td>-0.011459</td>\n",
       "    </tr>\n",
       "    <tr>\n",
       "      <th>2</th>\n",
       "      <td>0.795181</td>\n",
       "      <td>-0.882124</td>\n",
       "    </tr>\n",
       "    <tr>\n",
       "      <th>3</th>\n",
       "      <td>1.477912</td>\n",
       "      <td>0.006529</td>\n",
       "    </tr>\n",
       "    <tr>\n",
       "      <th>4</th>\n",
       "      <td>1.646586</td>\n",
       "      <td>-0.602546</td>\n",
       "    </tr>\n",
       "  </tbody>\n",
       "</table>\n",
       "</div>"
      ],
      "text/plain": [
       "          X         Y\n",
       "0  1.867470 -1.210867\n",
       "1  1.168675 -0.011459\n",
       "2  0.795181 -0.882124\n",
       "3  1.477912  0.006529\n",
       "4  1.646586 -0.602546"
      ]
     },
     "execution_count": 4,
     "metadata": {},
     "output_type": "execute_result"
    }
   ],
   "source": [
    "dataset = pd.read_csv(\"./ML2021S-HW7-data.csv\")\n",
    "dataset.drop('Unnamed: 0', axis=1, inplace=True)\n",
    "dataset.head(5)"
   ]
  },
  {
   "cell_type": "code",
   "execution_count": 5,
   "metadata": {
    "hidden": true
   },
   "outputs": [],
   "source": [
    "train_csv = dataset[['X']].values\n",
    "labels = dataset[['Y']].values\n",
    "# implement the split part\n",
    "# name them: x_train, x_test, y_train, y_test\n",
    "\n",
    "split_rate = 0.2\n",
    "number_of_tests = int(train_csv.shape[0] * split_rate)\n",
    "indices = np.random.permutation(train_csv.shape[0])\n",
    "test_idx, train_idx = indices[:number_of_tests], indices[number_of_tests:]\n",
    "\n",
    "x_train = train_csv[train_idx,:]\n",
    "y_train = labels[train_idx]\n",
    "\n",
    "x_test = train_csv[test_idx,:]\n",
    "y_test = labels[test_idx]"
   ]
  },
  {
   "cell_type": "markdown",
   "metadata": {
    "deletable": false,
    "editable": false,
    "heading_collapsed": true,
    "hidden": true,
    "run_control": {
     "frozen": true
    }
   },
   "source": [
    "### Part2:\n",
    "Assume there is simple linear relationship between X and Y. Train a simple `Linear Regression` on the training dataset and report its accuracy on the training and testing dataset, separately."
   ]
  },
  {
   "cell_type": "code",
   "execution_count": 6,
   "metadata": {
    "hidden": true
   },
   "outputs": [],
   "source": [
    "# here you can implement via sgd or use least square solution. we suggest the second one inv(A^T A) * A^T y.\n",
    "# consider m as the returned line --> m[0] = the slope , m[1] = y intercept, also don't forget to use numpy for calculating m.\n",
    "\n",
    "l = x_train.shape[0]\n",
    "X = np.hstack((x_train, np.ones((l, 1))))\n",
    "m = np.linalg.inv(X.T@X)@(X.T@y_train)"
   ]
  },
  {
   "cell_type": "code",
   "execution_count": 7,
   "metadata": {
    "hidden": true
   },
   "outputs": [
    {
     "name": "stdout",
     "output_type": "stream",
     "text": [
      "MSE train error: 0.32581071197358624\n",
      "MSE test error: 0.35108617246909274\n"
     ]
    }
   ],
   "source": [
    "predicted_train_y = m[0] * x_train + m[1]\n",
    "predicted_test_y = m[0] * x_test + m[1]\n",
    "\n",
    "train_error = mean_squared_error(predicted_train_y, y_train, squared=True)\n",
    "test_error = mean_squared_error(predicted_test_y, y_test, squared=True)\n",
    "\n",
    "\n",
    "print(f\"MSE train error: {train_error}\\nMSE test error: {test_error}\")"
   ]
  },
  {
   "cell_type": "markdown",
   "metadata": {
    "deletable": false,
    "editable": false,
    "heading_collapsed": true,
    "hidden": true,
    "run_control": {
     "frozen": true
    }
   },
   "source": [
    "### Part3:\n",
    "Draw the line you've found in the last part, on train and test points (each separately)."
   ]
  },
  {
   "cell_type": "code",
   "execution_count": 8,
   "metadata": {
    "hidden": true
   },
   "outputs": [
    {
     "data": {
      "text/plain": [
       "Text(0.5, 1.0, 'Train dataset')"
      ]
     },
     "execution_count": 8,
     "metadata": {},
     "output_type": "execute_result"
    },
    {
     "data": {
      "image/png": "[encoded data removed]",
      "text/plain": [
       "<Figure size 432x288 with 1 Axes>"
      ]
     },
     "metadata": {},
     "output_type": "display_data"
    }
   ],
   "source": [
    "plt.scatter(x_train, y_train)\n",
    "plt.scatter(x_train, m[0]*x_train + m[1], s=1)\n",
    "plt.title(\"Train dataset\")"
   ]
  },
  {
   "cell_type": "code",
   "execution_count": 9,
   "metadata": {
    "hidden": true
   },
   "outputs": [
    {
     "data": {
      "text/plain": [
       "Text(0.5, 1.0, 'Test dataset')"
      ]
     },
     "execution_count": 9,
     "metadata": {},
     "output_type": "execute_result"
    },
    {
     "data": {
      "image/png": "[encoded data removed]",
      "text/plain": [
       "<Figure size 432x288 with 1 Axes>"
      ]
     },
     "metadata": {},
     "output_type": "display_data"
    }
   ],
   "source": [
    "plt.scatter(x_test, y_test)\n",
    "plt.scatter(x_test, m[0]*x_test + m[1], s=1)\n",
    "plt.title(\"Test dataset\")"
   ]
  },
  {
   "cell_type": "markdown",
   "metadata": {
    "deletable": false,
    "editable": false,
    "heading_collapsed": true,
    "hidden": true,
    "run_control": {
     "frozen": true
    }
   },
   "source": [
    "### Part4:\n",
    "Were the reported accuracies acceptable?\n",
    "\n",
    "What about the line you drew in the last part?\n",
    "\n",
    "Was it appropriate for the dataset?\n",
    "<br><br/>\n",
    "Explain what are the main problems here."
   ]
  },
  {
   "cell_type": "markdown",
   "metadata": {
    "hidden": true
   },
   "source": [
    "- a) Train and Test MSE errors (consequently the accuracies) approximately are alike each other. Accuracies are not acceptable for this data but is acceptable compared to the model (without kernel) used. This means that this model is not suitable for this data, Because the data has a wavy form but the predicted model is just a straight line.\n",
    "- b) A line drawn is like a sloping line with a sinusoidal shape mounted on it. As we saw in class, if we want to suggest a straight line for this data, this is the best bias variance trade-off for a straight line.\n",
    "- c) No, as mentioned in the section a, it is not suitable for use in this way."
   ]
  },
  {
   "cell_type": "markdown",
   "metadata": {
    "deletable": false,
    "editable": false,
    "heading_collapsed": true,
    "hidden": true,
    "run_control": {
     "frozen": true
    }
   },
   "source": [
    "### Part5:\n",
    "Now, consider the `Locally Weighted Linear Regression` approach for this problem. Do expect it performs better than simple `Linear Regression` for this dataset?"
   ]
  },
  {
   "cell_type": "markdown",
   "metadata": {
    "hidden": true
   },
   "source": [
    "Locally weighted linear regression is a non-parametric algorithm, that means the model does not learn a fixed set of parameters as is done in previous part.\n",
    "Parameters `\\theta` are computed individually for each query point x. In computing `\\theta`, a higher `preference` is given to the points in the training set lying in the neighborhood of x than the other points."
   ]
  },
  {
   "cell_type": "markdown",
   "metadata": {
    "deletable": false,
    "editable": false,
    "heading_collapsed": true,
    "hidden": true,
    "run_control": {
     "frozen": true
    }
   },
   "source": [
    "### Part6:\n",
    "Here, we want to implement the `suggested model`. You can implement any weight function you want, the below implementation is just a sample:\n",
    "<br><br/>\n",
    "\\begin{equation*}\n",
    "    w^{(i)}=exp\\left(-\\frac{(\\mathbf x^{(i)}-\\mathbf x)^\\top(\\mathbf x^{(i)}-\\mathbf x)}{2\\tau^2}\\right)\n",
    "\\end{equation*}"
   ]
  },
  {
   "cell_type": "code",
   "execution_count": 9,
   "metadata": {
    "hidden": true
   },
   "outputs": [],
   "source": [
    "def get_weight_matrix(the_query_point, train_dataset, hyperparameter):\n",
    "    l = train_dataset.shape[0]\n",
    "    W = np.mat(np.eye(l))\n",
    "    for i, xi in enumerate(train_dataset):\n",
    "        W[i, i] = np.exp(np.linalg.norm(the_query_point - xi) ** 2 / (-2 * hyperparameter ** 2))\n",
    "    return W"
   ]
  },
  {
   "cell_type": "markdown",
   "metadata": {
    "deletable": false,
    "editable": false,
    "hidden": true,
    "run_control": {
     "frozen": true
    }
   },
   "source": [
    "Now implement the `closed form solution` based on the following formula:\n",
    "<br><br/>\n",
    "\\begin{equation*}\n",
    "    \\boldsymbol\\theta=(X^\\top WX)^{-1}(X^\\top WY)\n",
    "\\end{equation*}\n",
    "<br><br/>\n",
    "Of course if you use another form, implement your own."
   ]
  },
  {
   "cell_type": "code",
   "execution_count": 10,
   "metadata": {
    "hidden": true
   },
   "outputs": [],
   "source": [
    "def predict(train_X, train_Y, query_x, hyperparameter):\n",
    "    l = train_X.shape[0]\n",
    "    X = np.hstack((train_X, np.ones((l, 1))))\n",
    "    qx = np.mat([query_x, 1])\n",
    "    W = get_weight_matrix(qx, X, hyperparameter)\n",
    "    theta = np.linalg.inv(X.T@W@X)@(X.T@W@train_Y)\n",
    "\n",
    "    return np.dot(qx, theta)"
   ]
  },
  {
   "cell_type": "markdown",
   "metadata": {
    "deletable": false,
    "editable": false,
    "heading_collapsed": true,
    "hidden": true,
    "run_control": {
     "frozen": true
    }
   },
   "source": [
    "### Part7:\n",
    "Report accuracy of this model on the test dataset. Also, draw a plot that contains (x_test, y_test) pairs and (x_test, predicted_y) pairs that differ in color."
   ]
  },
  {
   "cell_type": "markdown",
   "metadata": {},
   "source": [
    "K-Fold Cross Validation to find `best_hyperparameter`:"
   ]
  },
  {
   "cell_type": "code",
   "execution_count": 11,
   "metadata": {},
   "outputs": [
    {
     "name": "stdout",
     "output_type": "stream",
     "text": [
      "hyperparameter: 0.01, error: 0.09167428077025866\n",
      "hyperparameter: 0.03, error: 0.08392597724356499\n",
      "hyperparameter: 0.05, error: 0.08336826282841255\n",
      "hyperparameter: 0.08, error: 0.08530815311465229\n",
      "hyperparameter: 0.1, error: 0.08809507662095743\n",
      "hyperparameter: 0.3, error: 0.18787605734238166\n",
      "hyperparameter: 0.5, error: 0.25403937765099\n",
      "hyperparameter: 0.8, error: 0.2830626185887075\n",
      "hyperparameter: 1, error: 0.28770599372476946\n",
      "hyperparameter: 3, error: 0.2922472506250056\n",
      "hyperparameter: 5, error: 0.292542833869042\n",
      "best k: 0.05, error: 0.08336826282841255\n"
     ]
    }
   ],
   "source": [
    "n_fold = 5 # number of folds\n",
    "fold_len = int(x_train.shape[0]/n_fold)\n",
    "\n",
    "hyperparameter_list = [0.01, 0.03, 0.05, 0.08, 0.1, 0.3, 0.5, 0.8, 1, 3, 5]\n",
    "\n",
    "best_hyperparameter = hyperparameter_list[-1]\n",
    "best_error = np.inf\n",
    "\n",
    "for hyperparameter in hyperparameter_list:\n",
    "    error = 0 # error for current k\n",
    "    for j in range(n_fold):\n",
    "        temp_error = []\n",
    "        \n",
    "        total_index = list(range(fold_len*n_fold))\n",
    "        val_index = list(range(j*fold_len,(j+1)*fold_len))\n",
    "        fold_train_index = [x for x in total_index if x not in val_index]\n",
    "\n",
    "        fold_train_set = x_train[fold_train_index] # the training data for the current fold\n",
    "        fold_train_target = y_train[fold_train_index] # the training targets for the current fold\n",
    "        val_set = x_train[val_index] # the validation data for the current fold\n",
    "        val_target = y_train[val_index] # the validation targets for the current fold\n",
    "\n",
    "        predicted_test = [predict(fold_train_set, fold_train_target, query, hyperparameter) for query in val_set]\n",
    "        predicted_test_ = np.array([np.array(i)[0][0] for i in predicted_test])\n",
    "        error_lwr = mean_squared_error(predicted_test_, val_target, squared = True)\n",
    "\n",
    "        temp_error.append(error_lwr)\n",
    "\n",
    "\n",
    "    error = np.mean(temp_error)\n",
    "    print(f\"hyperparameter: {hyperparameter}, error: {error}\")\n",
    "    if error < best_error:\n",
    "        best_error = error\n",
    "        best_hyperparameter = hyperparameter\n",
    "\n",
    "print(f\"best hyperparameter: {best_hyperparameter}, error: {best_error}\")"
   ]
  },
  {
   "cell_type": "code",
   "execution_count": 12,
   "metadata": {
    "hidden": true
   },
   "outputs": [
    {
     "name": "stdout",
     "output_type": "stream",
     "text": [
      "MSE test error: 0.11999107785419826\n"
     ]
    }
   ],
   "source": [
    "hyperparameter = best_hyperparameter\n",
    "predicted_test = [predict(x_train, y_train, query, hyperparameter) for query in x_test]\n",
    "predicted_test_ = np.array([np.array(i)[0][0] for i in predicted_test])\n",
    "error = mean_squared_error(predicted_test_, y_test, squared = True)\n",
    "print(f\"MSE test error: {error}\")"
   ]
  },
  {
   "cell_type": "code",
   "execution_count": 13,
   "metadata": {
    "hidden": true
   },
   "outputs": [
    {
     "data": {
      "text/plain": [
       "<matplotlib.collections.PathCollection at 0x2341c04ccf8>"
      ]
     },
     "execution_count": 13,
     "metadata": {},
     "output_type": "execute_result"
    },
    {
     "data": {
      "image/png": "[encoded data removed]",
      "text/plain": [
       "<Figure size 432x288 with 1 Axes>"
      ]
     },
     "metadata": {},
     "output_type": "display_data"
    }
   ],
   "source": [
    "plt.scatter(x_test, y_test, c = \"blue\")\n",
    "plt.scatter(x_test, predicted_test, c = \"yellow\")"
   ]
  },
  {
   "cell_type": "markdown",
   "metadata": {
    "deletable": false,
    "editable": false,
    "heading_collapsed": true,
    "hidden": true,
    "run_control": {
     "frozen": true
    }
   },
   "source": [
    "### Part8:\n",
    "Is the performance of the new model better than the previous one? `Explain`."
   ]
  },
  {
   "cell_type": "markdown",
   "metadata": {
    "hidden": true
   },
   "source": [
    "Locally weighted linear regression is a non-parametric algorithm, that means the model does not learn a fixed set of parameters as is done in previous part.\n",
    "Parameters `\\theta` are computed individually for each query point x. In computing `\\theta`, a higher `preference` is given to the points in the training set lying in the neighborhood of x than the other points."
   ]
  },
  {
   "cell_type": "markdown",
   "metadata": {
    "deletable": false,
    "editable": false,
    "heading_collapsed": true,
    "hidden": true,
    "run_control": {
     "frozen": true
    }
   },
   "source": [
    "### Part9:\n",
    "Now, we want to consider the `KNN` approach for this problem; Do you think it will perform well?"
   ]
  },
  {
   "cell_type": "markdown",
   "metadata": {
    "hidden": true
   },
   "source": [
    "Yes, but probably as as good as Locally Weighted Linear Regression."
   ]
  },
  {
   "cell_type": "markdown",
   "metadata": {
    "deletable": false,
    "editable": false,
    "heading_collapsed": true,
    "hidden": true,
    "run_control": {
     "frozen": true
    }
   },
   "source": [
    "### Part10:\n",
    "Implementing the `KNN model`."
   ]
  },
  {
   "cell_type": "code",
   "execution_count": 14,
   "metadata": {
    "hidden": true
   },
   "outputs": [],
   "source": [
    "class KNN:\n",
    "    def __init__(self, number_neighbours, X, Y):\n",
    "        self.k = number_neighbours\n",
    "        self.X = X\n",
    "        self.Y = Y\n",
    "\n",
    "    def distance(self, x1, x2):\n",
    "        distance = np.sqrt((x1 - x2) ** 2) # implement the distance function\n",
    "        return distance\n",
    "\n",
    "    def return_nn_ids(self, x):\n",
    "        indices = self.distance(self.X, x).argsort(axis = 0)[:self.k] # find indices of k nearest neighbours to x\n",
    "        return indices\n",
    "\n",
    "    def predict(self, x):\n",
    "        neareest_indices = self.return_nn_ids(x)\n",
    "        predicted_y = self.Y[neareest_indices].mean()\n",
    "        return predicted_y"
   ]
  },
  {
   "cell_type": "code",
   "execution_count": 15,
   "metadata": {
    "hidden": true
   },
   "outputs": [],
   "source": [
    "def evaluation(k, x_train, y_train, x_test, y_test):\n",
    "    model = KNN(k, x_train, y_train)\n",
    "    predicted_y = [model.predict(x) for x in x_test]\n",
    "    error = mean_squared_error(predicted_y, y_test, squared=True)\n",
    "    return error, predicted_y"
   ]
  },
  {
   "cell_type": "markdown",
   "metadata": {},
   "source": [
    "K-Fold Cross Validation to find `k`:"
   ]
  },
  {
   "cell_type": "code",
   "execution_count": 17,
   "metadata": {},
   "outputs": [
    {
     "name": "stdout",
     "output_type": "stream",
     "text": [
      "k: 1, error: 0.1710408508160724\n",
      "k: 2, error: 0.12811810714629476\n",
      "k: 3, error: 0.09897619178936437\n",
      "k: 4, error: 0.08909647611012723\n",
      "k: 5, error: 0.08097035186331442\n",
      "k: 6, error: 0.08812076577317146\n",
      "k: 7, error: 0.0876230125085969\n",
      "k: 8, error: 0.08765600034222214\n",
      "k: 9, error: 0.0872395235413258\n",
      "k: 10, error: 0.08432982346096914\n",
      "k: 11, error: 0.0815135845987401\n",
      "k: 12, error: 0.08416742647431796\n",
      "k: 13, error: 0.08575467618285632\n",
      "k: 14, error: 0.0833075381770394\n",
      "k: 15, error: 0.08374767310251784\n",
      "k: 16, error: 0.08225504963516359\n",
      "k: 17, error: 0.08311504015800056\n",
      "k: 18, error: 0.08281539766249861\n",
      "k: 19, error: 0.08352673130022092\n",
      "k: 20, error: 0.08210443432669397\n",
      "k: 21, error: 0.08314128129080635\n",
      "k: 22, error: 0.08448435947363948\n",
      "k: 23, error: 0.08529413987669834\n",
      "k: 24, error: 0.0852761351501307\n",
      "k: 25, error: 0.08412294048605021\n",
      "k: 26, error: 0.08455676282422511\n",
      "k: 27, error: 0.0850827308366077\n",
      "k: 28, error: 0.08228321593117935\n",
      "k: 29, error: 0.08262511001924133\n",
      "k: 30, error: 0.08228606924992564\n",
      "k: 31, error: 0.08304533009122071\n",
      "k: 32, error: 0.08574053859198445\n",
      "k: 33, error: 0.08542552669028347\n",
      "k: 34, error: 0.08595435357365226\n",
      "k: 35, error: 0.08599315754757812\n",
      "k: 36, error: 0.08600363191429941\n",
      "k: 37, error: 0.0860770282143544\n",
      "k: 38, error: 0.08578944301544253\n",
      "k: 39, error: 0.08618333404998804\n",
      "k: 40, error: 0.08603153913725173\n",
      "k: 41, error: 0.08722589116066028\n",
      "k: 42, error: 0.08623403530560206\n",
      "k: 43, error: 0.08811635399169784\n",
      "k: 44, error: 0.08777474300683993\n",
      "k: 45, error: 0.08805839434648224\n",
      "k: 46, error: 0.08863146209971835\n",
      "k: 47, error: 0.0892975199437293\n",
      "k: 48, error: 0.08988742644869116\n",
      "k: 49, error: 0.09004340322645284\n",
      "best k: 5, error: 0.08097035186331442\n"
     ]
    }
   ],
   "source": [
    "n_fold = 5 # number of folds\n",
    "fold_len = int(x_train.shape[0]/n_fold)\n",
    "\n",
    "k_list = range(1, 50)\n",
    "\n",
    "best_k = k_list[-1]\n",
    "best_error = np.inf\n",
    "\n",
    "for k in k_list:\n",
    "    error = 0 # error for current k\n",
    "    for j in range(n_fold):\n",
    "        temp_error = []\n",
    "        \n",
    "        total_index = list(range(fold_len*n_fold))\n",
    "        val_index = list(range(j*fold_len,(j+1)*fold_len))\n",
    "        fold_train_index = [x for x in total_index if x not in val_index]\n",
    "\n",
    "        fold_train_set = x_train[fold_train_index] # the training data for the current fold\n",
    "        fold_train_target = y_train[fold_train_index] # the training targets for the current fold\n",
    "        val_set = x_train[val_index] # the validation data for the current fold\n",
    "        val_target = y_train[val_index] # the validation targets for the current fold\n",
    "\n",
    "        error_knn, predicted_y = evaluation(k, fold_train_set, fold_train_target, val_set, val_target)\n",
    "\n",
    "        temp_error.append(error_knn)\n",
    "\n",
    "\n",
    "    error = np.mean(temp_error)\n",
    "    print(f\"k: {k}, error: {error}\")\n",
    "    if error < best_error:\n",
    "        best_error = error\n",
    "        best_k = k\n",
    "\n",
    "print(f\"best k: {best_k}, error: {best_error}\")"
   ]
  },
  {
   "cell_type": "code",
   "execution_count": 18,
   "metadata": {
    "hidden": true
   },
   "outputs": [
    {
     "name": "stdout",
     "output_type": "stream",
     "text": [
      "MSE error of KNN for test dataset: 0.1338665884376996\n"
     ]
    }
   ],
   "source": [
    "k = best_k\n",
    "error_knn, predicted_y = evaluation(k, x_train, y_train, x_test, y_test)\n",
    "print(f\"MSE error of KNN for test dataset: {error_knn}\")"
   ]
  },
  {
   "cell_type": "code",
   "execution_count": 19,
   "metadata": {
    "hidden": true
   },
   "outputs": [
    {
     "data": {
      "text/plain": [
       "<matplotlib.collections.PathCollection at 0x2341c294eb8>"
      ]
     },
     "execution_count": 19,
     "metadata": {},
     "output_type": "execute_result"
    },
    {
     "data": {
      "image/png": "[encoded data removed]",
      "text/plain": [
       "<Figure size 432x288 with 1 Axes>"
      ]
     },
     "metadata": {},
     "output_type": "display_data"
    }
   ],
   "source": [
    "plt.scatter(x_test, y_test, c = \"blue\")\n",
    "plt.scatter(x_test, predicted_y, c = \"yellow\")"
   ]
  },
  {
   "cell_type": "markdown",
   "metadata": {
    "deletable": false,
    "editable": false,
    "hidden": true,
    "run_control": {
     "frozen": true
    }
   },
   "source": [
    "To find best K for this algorithm we suggest to use cross-validation.\n",
    "<br><br/>\n",
    "Did this model perform well (due to the plot and test accuracy)?"
   ]
  },
  {
   "cell_type": "markdown",
   "metadata": {
    "hidden": true
   },
   "source": [
    "I used cross-validation.\n",
    "Yes, The test error is low and as we can see, the predicted data follow the test data. In this model each point is classified by a plurality vote of its neighbors. "
   ]
  }
 ],
 "metadata": {
  "kernelspec": {
   "display_name": "Python 3",
   "language": "python",
   "name": "python3"
  },
  "language_info": {
   "codemirror_mode": {
    "name": "ipython",
    "version": 3
   },
   "file_extension": ".py",
   "mimetype": "text/x-python",
   "name": "python",
   "nbconvert_exporter": "python",
   "pygments_lexer": "ipython3",
   "version": "3.6.5"
  },
  "toc": {
   "base_numbering": 1,
   "nav_menu": {},
   "number_sections": true,
   "sideBar": true,
   "skip_h1_title": false,
   "title_cell": "Table of Contents",
   "title_sidebar": "Contents",
   "toc_cell": false,
   "toc_position": {},
   "toc_section_display": true,
   "toc_window_display": false
  },
  "varInspector": {
   "cols": {
    "lenName": 16,
    "lenType": 16,
    "lenVar": 40
   },
   "kernels_config": {
    "python": {
     "delete_cmd_postfix": "",
     "delete_cmd_prefix": "del ",
     "library": "var_list.py",
     "varRefreshCmd": "print(var_dic_list())"
    },
    "r": {
     "delete_cmd_postfix": ") ",
     "delete_cmd_prefix": "rm(",
     "library": "var_list.r",
     "varRefreshCmd": "cat(var_dic_list()) "
    }
   },
   "types_to_exclude": [
    "module",
    "function",
    "builtin_function_or_method",
    "instance",
    "_Feature"
   ],
   "window_display": false
  }
 },
 "nbformat": 4,
 "nbformat_minor": 4
}
