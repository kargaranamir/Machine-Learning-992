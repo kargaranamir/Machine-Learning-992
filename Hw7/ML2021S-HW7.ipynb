{
 "cells": [
  {
   "cell_type": "markdown",
   "metadata": {
    "deletable": false,
    "editable": false,
    "heading_collapsed": true,
    "run_control": {
     "frozen": true
    }
   },
   "source": [
    "# CE-40717: Machine Learning"
   ]
  },
  {
   "cell_type": "markdown",
   "metadata": {
    "deletable": false,
    "editable": false,
    "heading_collapsed": true,
    "hidden": true,
    "run_control": {
     "frozen": true
    }
   },
   "source": [
    "## HW7-Regression"
   ]
  },
  {
   "cell_type": "markdown",
   "metadata": {
    "heading_collapsed": true,
    "hidden": true
   },
   "source": [
    "### Please fill this part\n",
    "\n",
    "\n",
    "1.   Full Name: \n",
    "2.   Student Number: "
   ]
  },
  {
   "cell_type": "code",
   "execution_count": null,
   "metadata": {
    "hidden": true
   },
   "outputs": [],
   "source": [
    "# You are not allowed to import other packages.\n",
    "\n",
    "import numpy as np\n",
    "import pandas as pd\n",
    "\n",
    "from matplotlib import pyplot as plt\n",
    "from sklearn.metrics import mean_squared_error"
   ]
  },
  {
   "cell_type": "markdown",
   "metadata": {
    "deletable": false,
    "editable": false,
    "heading_collapsed": true,
    "hidden": true,
    "run_control": {
     "frozen": true
    }
   },
   "source": [
    "### Part1:\n",
    "Consider the dataset which has been given to you. Split the dataset into the `training dataset` and `test dataset`. You can use `80%` of the data for training and the rest for testing."
   ]
  },
  {
   "cell_type": "code",
   "execution_count": null,
   "metadata": {
    "hidden": true
   },
   "outputs": [],
   "source": [
    "dataset = pd.read_csv(\"./data/ML2021S-HW7-data.csv\")\n",
    "\n",
    "# implement the split part\n",
    "# name them: x_train, x_test, y_train, y_test\n",
    "\n",
    "x_train = ...\n",
    "y_train = ...\n",
    "\n",
    "x_test = ...\n",
    "y_test = ..."
   ]
  },
  {
   "cell_type": "markdown",
   "metadata": {
    "deletable": false,
    "editable": false,
    "heading_collapsed": true,
    "hidden": true,
    "run_control": {
     "frozen": true
    }
   },
   "source": [
    "### Part2:\n",
    "Assume there is simple linear relationship between X and Y. Train a simple `Linear Regression` on the training dataset and report its accuracy on the training and testing dataset, separately."
   ]
  },
  {
   "cell_type": "code",
   "execution_count": null,
   "metadata": {
    "hidden": true
   },
   "outputs": [],
   "source": [
    "# here you can implement via sgd or use least square solution. we suggest the second one inv(A^T A) * A^T y.\n",
    "# consider m as the returned line --> m[0] = the slope , m[1] = y intercept, also don't forget to use numpy for calculating m.\n",
    "\n",
    "m = ..."
   ]
  },
  {
   "cell_type": "code",
   "execution_count": null,
   "metadata": {
    "hidden": true
   },
   "outputs": [],
   "source": [
    "predicted_train_y = m[0] * x_train + m[1]\n",
    "predicted_test_y = m[0] * x_test + m[1]\n",
    "\n",
    "train_error = ...\n",
    "test_error = ...\n",
    "\n",
    "print(f\"MSE train error: {train_error}\\nMSE test error: {test_error}\")"
   ]
  },
  {
   "cell_type": "markdown",
   "metadata": {
    "deletable": false,
    "editable": false,
    "heading_collapsed": true,
    "hidden": true,
    "run_control": {
     "frozen": true
    }
   },
   "source": [
    "### Part3:\n",
    "Draw the line you've found in the last part, on train and test points (each separately)."
   ]
  },
  {
   "cell_type": "code",
   "execution_count": null,
   "metadata": {
    "hidden": true
   },
   "outputs": [],
   "source": [
    "plt.scatter(x_train, y_train)\n",
    "plt.scatter(x_train, m[0]*x_train + m[1], s=1)\n",
    "plt.title(\"Train dataset\")"
   ]
  },
  {
   "cell_type": "code",
   "execution_count": null,
   "metadata": {
    "hidden": true
   },
   "outputs": [],
   "source": [
    "plt.scatter(x_test, y_test)\n",
    "plt.scatter(x_test, m[0]*x_test + m[1], s=1)\n",
    "plt.title(\"Test dataset\")"
   ]
  },
  {
   "cell_type": "markdown",
   "metadata": {
    "deletable": false,
    "editable": false,
    "heading_collapsed": true,
    "hidden": true,
    "run_control": {
     "frozen": true
    }
   },
   "source": [
    "### Part4:\n",
    "Were the reported accuracies acceptable?\n",
    "\n",
    "What about the line you drew in the last part?\n",
    "\n",
    "Was it appropriate for the dataset?\n",
    "<br><br/>\n",
    "Explain what are the main problems here."
   ]
  },
  {
   "cell_type": "markdown",
   "metadata": {
    "hidden": true
   },
   "source": [
    "-write here-"
   ]
  },
  {
   "cell_type": "markdown",
   "metadata": {
    "deletable": false,
    "editable": false,
    "heading_collapsed": true,
    "hidden": true,
    "run_control": {
     "frozen": true
    }
   },
   "source": [
    "### Part5:\n",
    "Now, consider the `Locally Weighted Linear Regression` approach for this problem. Do expect it performs better than simple `Linear Regression` for this dataset?"
   ]
  },
  {
   "cell_type": "markdown",
   "metadata": {
    "hidden": true
   },
   "source": [
    "-write here-"
   ]
  },
  {
   "cell_type": "markdown",
   "metadata": {
    "deletable": false,
    "editable": false,
    "heading_collapsed": true,
    "hidden": true,
    "run_control": {
     "frozen": true
    }
   },
   "source": [
    "### Part6:\n",
    "Here, we want to implement the `suggested model`. You can implement any weight function you want, the below implementation is just a sample:\n",
    "<br><br/>\n",
    "\\begin{equation*}\n",
    "    w^{(i)}=exp\\left(-\\frac{(\\mathbf x^{(i)}-\\mathbf x)^\\top(\\mathbf x^{(i)}-\\mathbf x)}{2\\tau^2}\\right)\n",
    "\\end{equation*}"
   ]
  },
  {
   "cell_type": "code",
   "execution_count": null,
   "metadata": {
    "hidden": true
   },
   "outputs": [],
   "source": [
    "def get_weight_matrix(the_query_point, train_dataset, hyperparameter):\n",
    "    l = train_dataset.shape[0]\n",
    "    W = np.mat(np.eye(l))\n",
    "    for i, xi in enumerate(train_dataset):\n",
    "        W[i, i] = ...\n",
    "    return W"
   ]
  },
  {
   "cell_type": "markdown",
   "metadata": {
    "deletable": false,
    "editable": false,
    "hidden": true,
    "run_control": {
     "frozen": true
    }
   },
   "source": [
    "Now implement the `closed form solution` based on the following formula:\n",
    "<br><br/>\n",
    "\\begin{equation*}\n",
    "    \\boldsymbol\\theta=(X^\\top WX)^{-1}(X^\\top WY)\n",
    "\\end{equation*}\n",
    "<br><br/>\n",
    "Of course if you use another form, implement your own."
   ]
  },
  {
   "cell_type": "code",
   "execution_count": null,
   "metadata": {
    "hidden": true
   },
   "outputs": [],
   "source": [
    "def predict(train_X, train_Y, query_x, hyperparameter):\n",
    "    l = train_dataset.shape[0]\n",
    "    X = np.hstack((train_X, np.ones((l, 1))))\n",
    "    qx = np.mat([query_x, 1])\n",
    "    W = get_weight_matrix(qx, X, hyperparameter)\n",
    "\n",
    "    theta = ...\n",
    "\n",
    "    return np.dot(qx, theta)"
   ]
  },
  {
   "cell_type": "markdown",
   "metadata": {
    "deletable": false,
    "editable": false,
    "heading_collapsed": true,
    "hidden": true,
    "run_control": {
     "frozen": true
    }
   },
   "source": [
    "### Part7:\n",
    "Report accuracy of this model on the test dataset. Also, draw a plot that contains (x_test, y_test) pairs and (x_test, predicted_y) pairs that differ in color."
   ]
  },
  {
   "cell_type": "code",
   "execution_count": null,
   "metadata": {
    "hidden": true
   },
   "outputs": [],
   "source": [
    "predicted_test = [predict(x_train, y_train, query, hyperparameter) for query in x_test]\n",
    "error = ...\n",
    "print(f\"MSE test error: {error}\")"
   ]
  },
  {
   "cell_type": "code",
   "execution_count": null,
   "metadata": {
    "hidden": true
   },
   "outputs": [],
   "source": [
    "plt.scatter(x_test, y_test, c=\"blue\")\n",
    "plt.scatter(x_test, predicted_test, c=\"yellow\")"
   ]
  },
  {
   "cell_type": "markdown",
   "metadata": {
    "deletable": false,
    "editable": false,
    "heading_collapsed": true,
    "hidden": true,
    "run_control": {
     "frozen": true
    }
   },
   "source": [
    "### Part8:\n",
    "Is the performance of the new model better than the previous one? `Explain`."
   ]
  },
  {
   "cell_type": "markdown",
   "metadata": {
    "hidden": true
   },
   "source": [
    "-write here-"
   ]
  },
  {
   "cell_type": "markdown",
   "metadata": {
    "deletable": false,
    "editable": false,
    "heading_collapsed": true,
    "hidden": true,
    "run_control": {
     "frozen": true
    }
   },
   "source": [
    "### Part9:\n",
    "Now, we want to consider the `KNN` approach for this problem; Do you think it will perform well?"
   ]
  },
  {
   "cell_type": "markdown",
   "metadata": {
    "hidden": true
   },
   "source": [
    "-write here-"
   ]
  },
  {
   "cell_type": "markdown",
   "metadata": {
    "deletable": false,
    "editable": false,
    "heading_collapsed": true,
    "hidden": true,
    "run_control": {
     "frozen": true
    }
   },
   "source": [
    "### Part10:\n",
    "Implementing the `KNN model`."
   ]
  },
  {
   "cell_type": "code",
   "execution_count": null,
   "metadata": {
    "hidden": true
   },
   "outputs": [],
   "source": [
    "class KNN:\n",
    "    def __init__(self, number_neighbours, X, Y):\n",
    "        self.k = number_neighbours\n",
    "        self.X = X\n",
    "        self.Y = Y\n",
    "\n",
    "    def distance(self, x1, x2):\n",
    "        distance = ... # implement the distance function\n",
    "        return distance\n",
    "\n",
    "    def return_nn_ids(self, x):\n",
    "        indices = ... # find indices of k nearest neighbours to x\n",
    "        return indices\n",
    "\n",
    "    def predict(self, x):\n",
    "        neareest_indices = self.return_nn_ids(x)\n",
    "        predicted_y = ...\n",
    "        return predicted_y"
   ]
  },
  {
   "cell_type": "code",
   "execution_count": null,
   "metadata": {
    "hidden": true
   },
   "outputs": [],
   "source": [
    "def evaluation(k, x_train, y_train, x_test, y_test):\n",
    "    model = KNN(k, x_train, y_train)\n",
    "    predicted_y = [model.predict(x) for x in x_test]\n",
    "    error = ...\n",
    "    return error, predicted_y"
   ]
  },
  {
   "cell_type": "code",
   "execution_count": null,
   "metadata": {
    "hidden": true
   },
   "outputs": [],
   "source": [
    "k = ...\n",
    "error_knn, predicted_y = evaluation(k, x_train, y_train, x_test, y_test)\n",
    "print(f\"MSE error of KNN for test dataset: {error_knn}\")"
   ]
  },
  {
   "cell_type": "code",
   "execution_count": null,
   "metadata": {
    "hidden": true
   },
   "outputs": [],
   "source": [
    "plt.scatter(x_test, y_test, c=\"blue\")\n",
    "plt.scatter(x_test, predicted_y, c=\"yellow\")"
   ]
  },
  {
   "cell_type": "markdown",
   "metadata": {
    "deletable": false,
    "editable": false,
    "hidden": true,
    "run_control": {
     "frozen": true
    }
   },
   "source": [
    "To find best K for this algorithm we suggest to use cross-validation.\n",
    "<br><br/>\n",
    "Did this model perform well (due to the plot and test accuracy)?"
   ]
  },
  {
   "cell_type": "markdown",
   "metadata": {
    "hidden": true
   },
   "source": [
    "-write here-"
   ]
  }
 ],
 "metadata": {
  "kernelspec": {
   "display_name": "Python 3",
   "language": "python",
   "name": "python3"
  },
  "language_info": {
   "codemirror_mode": {
    "name": "ipython",
    "version": 3
   },
   "file_extension": ".py",
   "mimetype": "text/x-python",
   "name": "python",
   "nbconvert_exporter": "python",
   "pygments_lexer": "ipython3",
   "version": "3.8.6"
  },
  "toc": {
   "base_numbering": 1,
   "nav_menu": {},
   "number_sections": true,
   "sideBar": true,
   "skip_h1_title": false,
   "title_cell": "Table of Contents",
   "title_sidebar": "Contents",
   "toc_cell": false,
   "toc_position": {},
   "toc_section_display": true,
   "toc_window_display": false
  },
  "varInspector": {
   "cols": {
    "lenName": 16,
    "lenType": 16,
    "lenVar": 40
   },
   "kernels_config": {
    "python": {
     "delete_cmd_postfix": "",
     "delete_cmd_prefix": "del ",
     "library": "var_list.py",
     "varRefreshCmd": "print(var_dic_list())"
    },
    "r": {
     "delete_cmd_postfix": ") ",
     "delete_cmd_prefix": "rm(",
     "library": "var_list.r",
     "varRefreshCmd": "cat(var_dic_list()) "
    }
   },
   "types_to_exclude": [
    "module",
    "function",
    "builtin_function_or_method",
    "instance",
    "_Feature"
   ],
   "window_display": false
  }
 },
 "nbformat": 4,
 "nbformat_minor": 4
}
