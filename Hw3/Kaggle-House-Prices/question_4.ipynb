{
 "cells": [
  {
   "cell_type": "markdown",
   "metadata": {},
   "source": [
    "## Import Libraries"
   ]
  },
  {
   "cell_type": "code",
   "execution_count": 35,
   "metadata": {},
   "outputs": [],
   "source": [
    "import numpy as np\n",
    "import pandas as pd\n",
    "import matplotlib.pyplot as plt\n",
    "import seaborn as sns\n",
    "from math import isnan\n",
    "%matplotlib inline"
   ]
  },
  {
   "cell_type": "markdown",
   "metadata": {},
   "source": [
    "## Read data from csv files"
   ]
  },
  {
   "cell_type": "code",
   "execution_count": 2,
   "metadata": {},
   "outputs": [],
   "source": [
    "train_df = pd.read_csv('train.csv')\n",
    "test_df = pd.read_csv('test.csv')"
   ]
  },
  {
   "cell_type": "markdown",
   "metadata": {},
   "source": [
    "## Preprocess"
   ]
  },
  {
   "cell_type": "markdown",
   "metadata": {},
   "source": [
    "#### find the features with correlation less than 0.3 with salesprice"
   ]
  },
  {
   "cell_type": "code",
   "execution_count": 3,
   "metadata": {},
   "outputs": [],
   "source": [
    "corr_heatmap = train_df.corr()\n",
    "\n",
    "kot = corr_heatmap[['SalePrice']]\n",
    "kot = kot[abs(kot) < 0.3]\n",
    "kot = kot.dropna()\n",
    "kot.sort_values(by='SalePrice')\n",
    "drop_list = list(kot.index)"
   ]
  },
  {
   "cell_type": "markdown",
   "metadata": {},
   "source": [
    "#### split labels and delete from train data\n"
   ]
  },
  {
   "cell_type": "code",
   "execution_count": 4,
   "metadata": {},
   "outputs": [],
   "source": [
    "labels = train_df['SalePrice'].values\n",
    "train_df = train_df.drop(['SalePrice'],axis=1)\n",
    "\n",
    "df = pd.concat([train_df,test_df])\n",
    "test_df_id = test_df[['Id']]"
   ]
  },
  {
   "cell_type": "markdown",
   "metadata": {},
   "source": [
    "#### drop the features which they don't have any ocrrelation with salesprice\n"
   ]
  },
  {
   "cell_type": "code",
   "execution_count": 5,
   "metadata": {},
   "outputs": [],
   "source": [
    "df = df.drop(drop_list, axis=1)"
   ]
  },
  {
   "cell_type": "markdown",
   "metadata": {},
   "source": [
    "#### drop features which half of them or more is nan!\n"
   ]
  },
  {
   "cell_type": "code",
   "execution_count": 6,
   "metadata": {},
   "outputs": [],
   "source": [
    "threshold = 0.5\n",
    "norm_null = df.isnull().sum()/len(df)\n",
    "dropped_features = norm_null.loc[norm_null > threshold].index\n",
    "df = df.drop(dropped_features,axis=1)"
   ]
  },
  {
   "cell_type": "markdown",
   "metadata": {},
   "source": [
    "#### fill nan values "
   ]
  },
  {
   "cell_type": "code",
   "execution_count": 7,
   "metadata": {},
   "outputs": [],
   "source": [
    "no_list = ['FireplaceQu', 'GarageType', 'GarageFinish', 'GarageQual', 'GarageYrBlt', 'GarageCond', 'BsmtQual', 'BsmtCond', 'BsmtExposure', 'BsmtFinType1', 'BsmtFinType2']\n",
    "zero_list = ['GarageCars', 'GarageArea']\n",
    "mean_list = [\"LotFrontage\",\"MasVnrArea\",\"TotalBsmtSF\", \"BsmtFinSF1\"]\n",
    "frequent_list = [\"MasVnrType\",\"MSZoning\",\"Utilities\",\"Exterior1st\",\"Exterior2nd\",\"Functional\",\"KitchenQual\",\"SaleType\",\"Electrical\"]\n",
    "categorical_list = [\"MSZoning\",\"Street\",\"LotShape\",\\\n",
    "                              \"LandContour\",\"Utilities\",\"LotConfig\",\\\n",
    "                              \"LandSlope\",\"Neighborhood\",\"Condition1\",\\\n",
    "                              \"Condition2\",\"BldgType\",\"HouseStyle\",\\\n",
    "                              \"RoofStyle\",\"RoofMatl\",\"Exterior1st\",\\\n",
    "                              \"Exterior2nd\",\"MasVnrType\",\"ExterQual\",\\\n",
    "                              \"ExterCond\",\"Foundation\",\"BsmtQual\",\\\n",
    "                              \"BsmtCond\",\"BsmtExposure\",\"BsmtFinType1\",\\\n",
    "                              \"BsmtFinType2\",\"Heating\",\"HeatingQC\",\\\n",
    "                              \"CentralAir\",\"Electrical\",\"KitchenQual\",\\\n",
    "                              \"Functional\",\"FireplaceQu\",\"GarageType\",\\\n",
    "                              \"GarageYrBlt\",\"GarageFinish\",\"GarageQual\",\\\n",
    "                              \"GarageCond\",\"PavedDrive\",\"SaleType\",\"SaleCondition\"]\n",
    "\n",
    "for i in no_list:\n",
    "    df[i].fillna(\"No\",inplace=True)\n",
    "\n",
    "for i in zero_list:\n",
    "    df[i].fillna(0,inplace=True)\n",
    "\n",
    "for i in mean_list:\n",
    "    df[i].fillna(df[i].mean(),inplace=True)\n",
    "\n",
    "for i in frequent_list:\n",
    "    df[i].fillna(df[i].mode()[0],inplace=True)"
   ]
  },
  {
   "cell_type": "markdown",
   "metadata": {},
   "source": [
    "#### categorical to sparse\n"
   ]
  },
  {
   "cell_type": "code",
   "execution_count": 8,
   "metadata": {},
   "outputs": [],
   "source": [
    "df = pd.get_dummies(df, columns = categorical_list, prefix= categorical_list, drop_first=True)"
   ]
  },
  {
   "cell_type": "markdown",
   "metadata": {},
   "source": [
    "#### feature normalization"
   ]
  },
  {
   "cell_type": "code",
   "execution_count": 9,
   "metadata": {},
   "outputs": [],
   "source": [
    "df = (df-df.min())/(df.max()-df.min())"
   ]
  },
  {
   "cell_type": "markdown",
   "metadata": {},
   "source": [
    "#### split data again in train and test"
   ]
  },
  {
   "cell_type": "code",
   "execution_count": 10,
   "metadata": {},
   "outputs": [],
   "source": [
    "train_csv = df.iloc[:train_df.shape[0],:].values\n",
    "test_csv = df.iloc[train_df.shape[0]:,:].values"
   ]
  },
  {
   "cell_type": "markdown",
   "metadata": {},
   "source": [
    "#### split train data in to train and validation"
   ]
  },
  {
   "cell_type": "code",
   "execution_count": 11,
   "metadata": {},
   "outputs": [],
   "source": [
    "split_rate = 0.15\n",
    "number_of_tests = int(train_csv.shape[0] * split_rate)\n",
    "indices = np.random.permutation(train_csv.shape[0])\n",
    "test_idx, train_idx = indices[:number_of_tests], indices[number_of_tests:]\n",
    "test_x, train_x = train_csv[test_idx,:], train_csv[train_idx,:]\n",
    "test_y, train_y = labels[test_idx], labels[train_idx]"
   ]
  },
  {
   "cell_type": "markdown",
   "metadata": {},
   "source": [
    "#### RMSE and MSE definition"
   ]
  },
  {
   "cell_type": "code",
   "execution_count": 12,
   "metadata": {},
   "outputs": [],
   "source": [
    "def mse(y1, y2):\n",
    "    return np.mean((y1-y2)**2)\n",
    "\n",
    "def rmse(y1, y2):\n",
    "    return np.sqrt(mse(y1, y2))"
   ]
  },
  {
   "cell_type": "markdown",
   "metadata": {},
   "source": [
    "## Kernel Implementation\n",
    "$$\n",
    "w\\left(x, x_{i}\\right)=\\frac{K\\left(\\frac{x_{i}-x}{h}\\right)}{\\sum_{j=1}^{n} K\\left(\\frac{x_{j}-x}{h}\\right)}\n",
    "$$"
   ]
  },
  {
   "cell_type": "code",
   "execution_count": 13,
   "metadata": {},
   "outputs": [],
   "source": [
    "def safe_devide(x1,x2):\n",
    "    try:\n",
    "        ans = x1/x2\n",
    "    except:\n",
    "        ans = 0\n",
    "    return ans\n",
    "      \n",
    "class Kernel_Regression_Model:    \n",
    "    def __init__(self, inp, out, parameter):\n",
    "        self.inp = inp\n",
    "        self.out = out\n",
    "        self.p = parameter\n",
    "    \n",
    "    def one(self, i):\n",
    "        if i > self.p:\n",
    "            return 0\n",
    "        else: \n",
    "            return 1\n",
    "        \n",
    "    def predict_one(self, x_test):\n",
    "        kernels = np.array([self.one(np.linalg.norm(i-x_test)) for i in self.inp])\n",
    "        weights = np.array([len(self.inp) * safe_devide(k, np.sum(kernels)) for k in kernels])\n",
    "        return safe_devide(np.dot(weights.T, self.out),len(self.inp))\n",
    "    \n",
    "    def gaussian(self, i):\n",
    "        std = -0.5*(i/self.p)**2\n",
    "        pre = 1/(np.sqrt(2*np.pi) * self.p)\n",
    "        try:\n",
    "            post = np.exp(std)\n",
    "        except:\n",
    "            post = 0 \n",
    "        try:\n",
    "            final = pre*post\n",
    "        except:\n",
    "            final = 0\n",
    "        return final\n",
    "        \n",
    "    def predict_gaussian(self, x_test):\n",
    "        kernels = np.array([self.gaussian(np.linalg.norm(i-x_test)) for i in self.inp])\n",
    "        weights = np.array([len(self.inp) * safe_devide(k, np.sum(kernels)) for k in kernels])\n",
    "        return safe_devide(np.dot(weights.T, self.out),len(self.inp))    "
   ]
  },
  {
   "cell_type": "markdown",
   "metadata": {},
   "source": [
    "#### Test"
   ]
  },
  {
   "cell_type": "code",
   "execution_count": 25,
   "metadata": {},
   "outputs": [],
   "source": [
    "RMSE_gaussian = dict()\n",
    "RMSE_one = dict()\n",
    "paramters = list(np.arange(0,20,0.1)) + list(np.arange(0,0.1,0.01))"
   ]
  },
  {
   "cell_type": "code",
   "execution_count": 54,
   "metadata": {},
   "outputs": [],
   "source": [
    "for p in paramters:\n",
    "    model = Kernel_Regression_Model(train_x, train_y, p)\n",
    "    RMSE_gaussian[p] = rmse(test_y, np.array([model.predict_gaussian(i) for i in test_x]))\n",
    "    RMSE_one[p] = rmse(test_y, np.array([model.predict_one(i) for i in test_x]))"
   ]
  },
  {
   "cell_type": "code",
   "execution_count": 29,
   "metadata": {},
   "outputs": [
    {
     "data": {
      "text/plain": [
       "{0.0: nan,\n",
       " 0.1: nan,\n",
       " 0.2: 37396.61012194062,\n",
       " 0.30000000000000004: 37542.54840203008,\n",
       " 0.4: 37338.15879206472,\n",
       " 0.5: 36752.64689331125,\n",
       " 0.6000000000000001: 36063.44224621169,\n",
       " 0.7000000000000001: 35354.6444475318,\n",
       " 0.8: 34902.04981146786,\n",
       " 0.9: 34921.33849769372,\n",
       " 1.0: 35523.62148010559,\n",
       " 1.1: 36662.71727317121,\n",
       " 1.2000000000000002: 38189.7204124551,\n",
       " 1.3: 39942.0208734158,\n",
       " 1.4000000000000001: 41778.49283334112,\n",
       " 1.5: 43602.46647838164,\n",
       " 1.6: 45355.146774551475,\n",
       " 1.7000000000000002: 47006.47997094263,\n",
       " 1.8: 48545.24516190715,\n",
       " 1.9000000000000001: 49970.041262037645,\n",
       " 2.0: 51283.95143181192,\n",
       " 2.1: 52492.10692010631,\n",
       " 2.2: 53600.65908991859,\n",
       " 2.3000000000000003: 54616.28941619299,\n",
       " 2.4000000000000004: 55545.90549894245,\n",
       " 2.5: 56396.4135415623,\n",
       " 2.6: 57174.54246207397,\n",
       " 2.7: 57886.715274027905,\n",
       " 2.8000000000000003: 58538.963994404585,\n",
       " 2.9000000000000004: 59136.881620710956,\n",
       " 3.0: 59685.60320868795,\n",
       " 3.1: 60189.80816203846,\n",
       " 3.2: 60653.73689172911,\n",
       " 3.3000000000000003: 61081.216405103856,\n",
       " 3.4000000000000004: 61475.690767185035,\n",
       " 3.5: 61840.25356202469,\n",
       " 3.6: 62177.68041958348,\n",
       " 3.7: 62490.4603756831,\n",
       " 3.8000000000000003: 62780.825336926726,\n",
       " 3.9000000000000004: 63050.77727220191,\n",
       " 4.0: 63302.11298667538,\n",
       " 4.1000000000000005: 63536.44648519124,\n",
       " 4.2: 63755.229024501205,\n",
       " 4.3: 63959.76700620109,\n",
       " 4.4: 64151.237887909796,\n",
       " 4.5: 64330.70429848781,\n",
       " 4.6000000000000005: 64499.126540452555,\n",
       " 4.7: 64657.37365363629,\n",
       " 4.800000000000001: 64806.23320150498,\n",
       " 4.9: 64946.41992735162,\n",
       " 5.0: 65078.58341302445,\n",
       " 5.1000000000000005: 65203.31485870499,\n",
       " 5.2: 65321.15308894384,\n",
       " 5.300000000000001: 65432.589877919534,\n",
       " 5.4: 65538.0746757922,\n",
       " 5.5: 65638.01880808403,\n",
       " 5.6000000000000005: 65732.79921118222,\n",
       " 5.7: 65822.76175925355,\n",
       " 5.800000000000001: 65908.22423099038,\n",
       " 5.9: 65989.47895858489,\n",
       " 6.0: 66066.79519605832,\n",
       " 6.1000000000000005: 66140.42123946737,\n",
       " 6.2: 66210.58632749277,\n",
       " 6.300000000000001: 66277.50234741047,\n",
       " 6.4: 66341.36536839056,\n",
       " 6.5: 66402.35702140446,\n",
       " 6.6000000000000005: 66460.6457426968,\n",
       " 6.7: 66516.38789575027,\n",
       " 6.800000000000001: 66569.72878490084,\n",
       " 6.9: 66620.80357221286,\n",
       " 7.0: 66669.73810787007,\n",
       " 7.1000000000000005: 66716.64968315423,\n",
       " 7.2: 66761.64771404343,\n",
       " 7.300000000000001: 66804.83436255321,\n",
       " 7.4: 66846.30510214214,\n",
       " 7.5: 66886.14923280154,\n",
       " 7.6000000000000005: 66924.45035082976,\n",
       " 7.7: 66961.28677774615,\n",
       " 7.800000000000001: 66996.7319523191,\n",
       " 7.9: 67030.85478925772,\n",
       " 8.0: 67063.72000774059,\n",
       " 8.1: 67095.38843262334,\n",
       " 8.200000000000001: 67125.91727087116,\n",
       " 8.3: 67155.36036550158,\n",
       " 8.4: 67183.76842908985,\n",
       " 8.5: 67211.1892586832,\n",
       " 8.6: 67237.66793378568,\n",
       " 8.700000000000001: 67263.24699891146,\n",
       " 8.8: 67287.96663205842,\n",
       " 8.9: 67311.8648003222,\n",
       " 9.0: 67334.9774037548,\n",
       " 9.1: 67357.33840846625,\n",
       " 9.200000000000001: 67378.9799698747,\n",
       " 9.3: 67399.93254692531,\n",
       " 9.4: 67420.22500802315,\n",
       " 9.5: 67439.88472935684,\n",
       " 9.600000000000001: 67458.9376862288,\n",
       " 9.700000000000001: 67477.40853795249,\n",
       " 9.8: 67495.32070682709,\n",
       " 9.9: 67512.69645165572,\n",
       " 10.0: 67529.55693623197,\n",
       " 10.100000000000001: 67545.92229318319,\n",
       " 10.200000000000001: 67561.81168352568,\n",
       " 10.3: 67577.24335225669,\n",
       " 10.4: 67592.2346802807,\n",
       " 10.5: 67606.80223294317,\n",
       " 10.600000000000001: 67620.96180542141,\n",
       " 10.700000000000001: 67634.72846520285,\n",
       " 10.8: 67648.11659186154,\n",
       " 10.9: 67661.13991432698,\n",
       " 11.0: 67673.81154582379,\n",
       " 11.100000000000001: 67686.14401664681,\n",
       " 11.200000000000001: 67698.14930492324,\n",
       " 11.3: 67709.83886550117,\n",
       " 11.4: 67721.22365709387,\n",
       " 11.5: 67732.31416779866,\n",
       " 11.600000000000001: 67743.12043910056,\n",
       " 11.700000000000001: 67753.65208846233,\n",
       " 11.8: 67763.91833059501,\n",
       " 11.9: 67773.92799749639,\n",
       " 12.0: 67783.68955733777,\n",
       " 12.100000000000001: 67793.21113227421,\n",
       " 12.200000000000001: 67802.50051524755,\n",
       " 12.3: 67811.5651858466,\n",
       " 12.4: 67820.41232528453,\n",
       " 12.5: 67829.04883054894,\n",
       " 12.600000000000001: 67837.48132777645,\n",
       " 12.700000000000001: 67845.71618489975,\n",
       " 12.8: 67853.75952361219,\n",
       " 12.9: 67861.61723069119,\n",
       " 13.0: 67869.29496871997,\n",
       " 13.100000000000001: 67876.79818624318,\n",
       " 13.200000000000001: 67884.13212739067,\n",
       " 13.3: 67891.30184100092,\n",
       " 13.4: 67898.31218927348,\n",
       " 13.5: 67905.16785597795,\n",
       " 13.600000000000001: 67911.87335424543,\n",
       " 13.700000000000001: 67918.43303396624,\n",
       " 13.8: 67924.85108881685,\n",
       " 13.9: 67931.13156293656,\n",
       " 14.0: 67937.2783572741,\n",
       " 14.100000000000001: 67943.29523562266,\n",
       " 14.200000000000001: 67949.18583036034,\n",
       " 14.3: 67954.95364791274,\n",
       " 14.4: 67960.6020739526,\n",
       " 14.5: 67966.13437835111,\n",
       " 14.600000000000001: 67971.55371989407,\n",
       " 14.700000000000001: 67976.86315077578,\n",
       " 14.8: 67982.06562088255,\n",
       " 14.9: 67987.1639818767,\n",
       " 15.0: 67992.16099109198,\n",
       " 15.100000000000001: 67997.05931525004,\n",
       " 15.200000000000001: 68001.86153400733,\n",
       " 15.3: 68006.57014334123,\n",
       " 15.4: 68011.18755878368,\n",
       " 15.5: 68015.71611851004,\n",
       " 15.600000000000001: 68020.15808629063,\n",
       " 15.700000000000001: 68024.51565431182,\n",
       " 15.8: 68028.79094587314,\n",
       " 15.9: 68032.98601796677,\n",
       " 16.0: 68037.10286374512,\n",
       " 16.1: 68041.14341488191,\n",
       " 16.2: 68045.10954383218,\n",
       " 16.3: 68049.00306599609,\n",
       " 16.400000000000002: 68052.8257417909,\n",
       " 16.5: 68056.57927863598,\n",
       " 16.6: 68060.26533285466,\n",
       " 16.7: 68063.88551149696,\n",
       " 16.8: 68067.4413740871,\n",
       " 16.900000000000002: 68070.93443429895,\n",
       " 17.0: 68074.3661615633,\n",
       " 17.1: 68077.7379826096,\n",
       " 17.2: 68081.05128294551,\n",
       " 17.3: 68084.30740827708,\n",
       " 17.400000000000002: 68087.507665872,\n",
       " 17.5: 68090.65332586909,\n",
       " 17.6: 68093.74562253563,\n",
       " 17.7: 68096.78575547565,\n",
       " 17.8: 68099.77489079094,\n",
       " 17.900000000000002: 68102.7141621969,\n",
       " 18.0: 68105.60467209537,\n",
       " 18.1: 68108.44749260621,\n",
       " 18.2: 68111.24366655955,\n",
       " 18.3: 68113.99420845018,\n",
       " 18.400000000000002: 68116.70010535608,\n",
       " 18.5: 68119.36231782222,\n",
       " 18.6: 68121.98178071146,\n",
       " 18.7: 68124.55940402369,\n",
       " 18.8: 68127.09607368479,\n",
       " 18.900000000000002: 68129.59265230646,\n",
       " 19.0: 68132.0499799182,\n",
       " 19.1: 68134.4688746728,\n",
       " 19.200000000000003: 68136.85013352602,\n",
       " 19.3: 68139.19453289201,\n",
       " 19.400000000000002: 68141.50282927502,\n",
       " 19.5: 68143.77575987876,\n",
       " 19.6: 68146.01404319394,\n",
       " 19.700000000000003: 68148.21837956518,\n",
       " 19.8: 68150.38945173795,\n",
       " 19.900000000000002: 68152.52792538644,\n",
       " 0.01: nan,\n",
       " 0.02: nan,\n",
       " 0.03: nan,\n",
       " 0.04: nan,\n",
       " 0.05: nan,\n",
       " 0.06: nan,\n",
       " 0.07: nan,\n",
       " 0.08: nan,\n",
       " 0.09: nan}"
      ]
     },
     "execution_count": 29,
     "metadata": {},
     "output_type": "execute_result"
    }
   ],
   "source": [
    "RMSE_gaussian"
   ]
  },
  {
   "cell_type": "code",
   "execution_count": 30,
   "metadata": {},
   "outputs": [
    {
     "data": {
      "text/plain": [
       "{0.0: nan,\n",
       " 0.1: nan,\n",
       " 0.2: nan,\n",
       " 0.30000000000000004: nan,\n",
       " 0.4: nan,\n",
       " 0.5: nan,\n",
       " 0.6000000000000001: nan,\n",
       " 0.7000000000000001: nan,\n",
       " 0.8: nan,\n",
       " 0.9: nan,\n",
       " 1.0: nan,\n",
       " 1.1: nan,\n",
       " 1.2000000000000002: nan,\n",
       " 1.3: nan,\n",
       " 1.4000000000000001: nan,\n",
       " 1.5: nan,\n",
       " 1.6: nan,\n",
       " 1.7000000000000002: nan,\n",
       " 1.8: nan,\n",
       " 1.9000000000000001: nan,\n",
       " 2.0: nan,\n",
       " 2.1: nan,\n",
       " 2.2: nan,\n",
       " 2.3000000000000003: nan,\n",
       " 2.4000000000000004: nan,\n",
       " 2.5: nan,\n",
       " 2.6: nan,\n",
       " 2.7: nan,\n",
       " 2.8000000000000003: nan,\n",
       " 2.9000000000000004: nan,\n",
       " 3.0: nan,\n",
       " 3.1: nan,\n",
       " 3.2: nan,\n",
       " 3.3000000000000003: nan,\n",
       " 3.4000000000000004: nan,\n",
       " 3.5: nan,\n",
       " 3.6: nan,\n",
       " 3.7: nan,\n",
       " 3.8000000000000003: nan,\n",
       " 3.9000000000000004: nan,\n",
       " 4.0: nan,\n",
       " 4.1000000000000005: nan,\n",
       " 4.2: nan,\n",
       " 4.3: nan,\n",
       " 4.4: nan,\n",
       " 4.5: nan,\n",
       " 4.6000000000000005: nan,\n",
       " 4.7: nan,\n",
       " 4.800000000000001: 43448.31746934374,\n",
       " 4.9: 44382.35688486989,\n",
       " 5.0: 45245.28065332513,\n",
       " 5.1000000000000005: 46430.93423008412,\n",
       " 5.2: 47353.22884738468,\n",
       " 5.300000000000001: 48834.05221981605,\n",
       " 5.4: 50465.527723207444,\n",
       " 5.5: 52104.734678786335,\n",
       " 5.6000000000000005: 53744.056611010295,\n",
       " 5.7: 55577.0749625985,\n",
       " 5.800000000000001: 57363.3959712813,\n",
       " 5.9: 59213.36917216549,\n",
       " 6.0: 60999.61345200634,\n",
       " 6.1000000000000005: 62622.46388202102,\n",
       " 6.2: 64002.17846690843,\n",
       " 6.300000000000001: 65193.98903413973,\n",
       " 6.4: 66126.15695281378,\n",
       " 6.5: 66813.77031637036,\n",
       " 6.6000000000000005: 67310.35216524995,\n",
       " 6.7: 67668.63109305875,\n",
       " 6.800000000000001: 67918.11041869398,\n",
       " 6.9: 68057.586359011,\n",
       " 7.0: 68180.98626779766,\n",
       " 7.1000000000000005: 68270.05754789831,\n",
       " 7.2: 68320.46232638671,\n",
       " 7.300000000000001: 68339.92714727463,\n",
       " 7.4: 68356.28622734624,\n",
       " 7.5: 68361.51206006954,\n",
       " 7.6000000000000005: 68363.52874181168,\n",
       " 7.7: 68363.94000387903,\n",
       " 7.800000000000001: 68363.94000387903,\n",
       " 7.9: 68363.94000387903,\n",
       " 8.0: 68363.94000387903,\n",
       " 8.1: 68363.94000387903,\n",
       " 8.200000000000001: 68363.94000387903,\n",
       " 8.3: 68363.94000387903,\n",
       " 8.4: 68363.94000387903,\n",
       " 8.5: 68363.94000387903,\n",
       " 8.6: 68363.94000387903,\n",
       " 8.700000000000001: 68363.94000387903,\n",
       " 8.8: 68363.94000387903,\n",
       " 8.9: 68363.94000387903,\n",
       " 9.0: 68363.94000387903,\n",
       " 9.1: 68363.94000387903,\n",
       " 9.200000000000001: 68363.94000387903,\n",
       " 9.3: 68363.94000387903,\n",
       " 9.4: 68363.94000387903,\n",
       " 9.5: 68363.94000387903,\n",
       " 9.600000000000001: 68363.94000387903,\n",
       " 9.700000000000001: 68363.94000387903,\n",
       " 9.8: 68363.94000387903,\n",
       " 9.9: 68363.94000387903,\n",
       " 10.0: 68363.94000387903,\n",
       " 10.100000000000001: 68363.94000387903,\n",
       " 10.200000000000001: 68363.94000387903,\n",
       " 10.3: 68363.94000387903,\n",
       " 10.4: 68363.94000387903,\n",
       " 10.5: 68363.94000387903,\n",
       " 10.600000000000001: 68363.94000387903,\n",
       " 10.700000000000001: 68363.94000387903,\n",
       " 10.8: 68363.94000387903,\n",
       " 10.9: 68363.94000387903,\n",
       " 11.0: 68363.94000387903,\n",
       " 11.100000000000001: 68363.94000387903,\n",
       " 11.200000000000001: 68363.94000387903,\n",
       " 11.3: 68363.94000387903,\n",
       " 11.4: 68363.94000387903,\n",
       " 11.5: 68363.94000387903,\n",
       " 11.600000000000001: 68363.94000387903,\n",
       " 11.700000000000001: 68363.94000387903,\n",
       " 11.8: 68363.94000387903,\n",
       " 11.9: 68363.94000387903,\n",
       " 12.0: 68363.94000387903,\n",
       " 12.100000000000001: 68363.94000387903,\n",
       " 12.200000000000001: 68363.94000387903,\n",
       " 12.3: 68363.94000387903,\n",
       " 12.4: 68363.94000387903,\n",
       " 12.5: 68363.94000387903,\n",
       " 12.600000000000001: 68363.94000387903,\n",
       " 12.700000000000001: 68363.94000387903,\n",
       " 12.8: 68363.94000387903,\n",
       " 12.9: 68363.94000387903,\n",
       " 13.0: 68363.94000387903,\n",
       " 13.100000000000001: 68363.94000387903,\n",
       " 13.200000000000001: 68363.94000387903,\n",
       " 13.3: 68363.94000387903,\n",
       " 13.4: 68363.94000387903,\n",
       " 13.5: 68363.94000387903,\n",
       " 13.600000000000001: 68363.94000387903,\n",
       " 13.700000000000001: 68363.94000387903,\n",
       " 13.8: 68363.94000387903,\n",
       " 13.9: 68363.94000387903,\n",
       " 14.0: 68363.94000387903,\n",
       " 14.100000000000001: 68363.94000387903,\n",
       " 14.200000000000001: 68363.94000387903,\n",
       " 14.3: 68363.94000387903,\n",
       " 14.4: 68363.94000387903,\n",
       " 14.5: 68363.94000387903,\n",
       " 14.600000000000001: 68363.94000387903,\n",
       " 14.700000000000001: 68363.94000387903,\n",
       " 14.8: 68363.94000387903,\n",
       " 14.9: 68363.94000387903,\n",
       " 15.0: 68363.94000387903,\n",
       " 15.100000000000001: 68363.94000387903,\n",
       " 15.200000000000001: 68363.94000387903,\n",
       " 15.3: 68363.94000387903,\n",
       " 15.4: 68363.94000387903,\n",
       " 15.5: 68363.94000387903,\n",
       " 15.600000000000001: 68363.94000387903,\n",
       " 15.700000000000001: 68363.94000387903,\n",
       " 15.8: 68363.94000387903,\n",
       " 15.9: 68363.94000387903,\n",
       " 16.0: 68363.94000387903,\n",
       " 16.1: 68363.94000387903,\n",
       " 16.2: 68363.94000387903,\n",
       " 16.3: 68363.94000387903,\n",
       " 16.400000000000002: 68363.94000387903,\n",
       " 16.5: 68363.94000387903,\n",
       " 16.6: 68363.94000387903,\n",
       " 16.7: 68363.94000387903,\n",
       " 16.8: 68363.94000387903,\n",
       " 16.900000000000002: 68363.94000387903,\n",
       " 17.0: 68363.94000387903,\n",
       " 17.1: 68363.94000387903,\n",
       " 17.2: 68363.94000387903,\n",
       " 17.3: 68363.94000387903,\n",
       " 17.400000000000002: 68363.94000387903,\n",
       " 17.5: 68363.94000387903,\n",
       " 17.6: 68363.94000387903,\n",
       " 17.7: 68363.94000387903,\n",
       " 17.8: 68363.94000387903,\n",
       " 17.900000000000002: 68363.94000387903,\n",
       " 18.0: 68363.94000387903,\n",
       " 18.1: 68363.94000387903,\n",
       " 18.2: 68363.94000387903,\n",
       " 18.3: 68363.94000387903,\n",
       " 18.400000000000002: 68363.94000387903,\n",
       " 18.5: 68363.94000387903,\n",
       " 18.6: 68363.94000387903,\n",
       " 18.7: 68363.94000387903,\n",
       " 18.8: 68363.94000387903,\n",
       " 18.900000000000002: 68363.94000387903,\n",
       " 19.0: 68363.94000387903,\n",
       " 19.1: 68363.94000387903,\n",
       " 19.200000000000003: 68363.94000387903,\n",
       " 19.3: 68363.94000387903,\n",
       " 19.400000000000002: 68363.94000387903,\n",
       " 19.5: 68363.94000387903,\n",
       " 19.6: 68363.94000387903,\n",
       " 19.700000000000003: 68363.94000387903,\n",
       " 19.8: 68363.94000387903,\n",
       " 19.900000000000002: 68363.94000387903,\n",
       " 0.01: nan,\n",
       " 0.02: nan,\n",
       " 0.03: nan,\n",
       " 0.04: nan,\n",
       " 0.05: nan,\n",
       " 0.06: nan,\n",
       " 0.07: nan,\n",
       " 0.08: nan,\n",
       " 0.09: nan}"
      ]
     },
     "execution_count": 30,
     "metadata": {},
     "output_type": "execute_result"
    }
   ],
   "source": [
    "RMSE_one"
   ]
  },
  {
   "cell_type": "code",
   "execution_count": 46,
   "metadata": {},
   "outputs": [
    {
     "name": "stdout",
     "output_type": "stream",
     "text": [
      "0.8\n",
      "34902.04981146786\n"
     ]
    }
   ],
   "source": [
    "RMSE_gaussian = {k: RMSE_gaussian[k] for k in RMSE_gaussian if not isnan(RMSE_gaussian[k])}\n",
    "min_index1 = min(RMSE_gaussian, key=RMSE_gaussian.get)\n",
    "print(min_index1)\n",
    "print(RMSE_gaussian[min_index1])"
   ]
  },
  {
   "cell_type": "code",
   "execution_count": 47,
   "metadata": {},
   "outputs": [
    {
     "name": "stdout",
     "output_type": "stream",
     "text": [
      "4.800000000000001\n",
      "43448.31746934374\n"
     ]
    }
   ],
   "source": [
    "RMSE_one = {k: RMSE_one[k] for k in RMSE_one if not isnan(RMSE_one[k])}\n",
    "min_index2 = min(RMSE_one, key=RMSE_gaussian.get)\n",
    "print(min_index2)\n",
    "print(RMSE_one[min_index2])"
   ]
  },
  {
   "cell_type": "code",
   "execution_count": 62,
   "metadata": {},
   "outputs": [
    {
     "data": {
      "image/png": "[encoded data removed]",
      "text/plain": [
       "<Figure size 432x288 with 1 Axes>"
      ]
     },
     "metadata": {
      "needs_background": "light"
     },
     "output_type": "display_data"
    }
   ],
   "source": [
    "lists = sorted(RMSE_gaussian.items())\n",
    "x1, y1 = zip(*lists) \n",
    "\n",
    "plt.plot(x1, y1, label='Gaussian')\n",
    "\n",
    "lists = sorted(RMSE_one.items())\n",
    "x2, y2 = zip(*lists)\n",
    "\n",
    "plt.plot(x2, y2, label='One')\n",
    "plt.xlabel('Parameter')\n",
    "plt.ylabel('RMSE of SalePrice')\n",
    "plt.legend()\n",
    "plt.show()"
   ]
  },
  {
   "cell_type": "code",
   "execution_count": 63,
   "metadata": {},
   "outputs": [
    {
     "data": {
      "image/png": "[encoded data removed]",
      "text/plain": [
       "<Figure size 432x288 with 1 Axes>"
      ]
     },
     "metadata": {
      "needs_background": "light"
     },
     "output_type": "display_data"
    }
   ],
   "source": [
    "y1 = tuple(i**2 for i in y1) \n",
    "plt.plot(x1, y1, label='Gaussian')\n",
    "\n",
    "y2 = tuple(i**2 for i in y2) \n",
    "\n",
    "plt.plot(x2, y2, label='One')\n",
    "plt.xlabel('Parameter')\n",
    "plt.ylabel('MSE of SalePrice')\n",
    "plt.legend()\n",
    "plt.show()"
   ]
  },
  {
   "cell_type": "markdown",
   "metadata": {},
   "source": [
    "#### chosse best model to test test.csv"
   ]
  },
  {
   "cell_type": "code",
   "execution_count": 56,
   "metadata": {},
   "outputs": [],
   "source": [
    "model = Kernel_Regression_Model(train_x, train_y, min_index1)"
   ]
  },
  {
   "cell_type": "markdown",
   "metadata": {},
   "source": [
    "#### Make a Submission"
   ]
  },
  {
   "cell_type": "code",
   "execution_count": 57,
   "metadata": {},
   "outputs": [],
   "source": [
    "submisson = pd.DataFrame([model.predict_gaussian(i) for i in test_csv])\n",
    "submisson = pd.concat([test_df_id, submisson], axis=1, join=\"inner\")\n",
    "submisson.rename(columns={'Id': 'Id', 0: 'SalePrice'}, inplace=True)\n",
    "submisson.to_csv('submission.csv', index = False)"
   ]
  }
 ],
 "metadata": {
  "kernelspec": {
   "display_name": "Python 3",
   "language": "python",
   "name": "python3"
  },
  "language_info": {
   "codemirror_mode": {
    "name": "ipython",
    "version": 3
   },
   "file_extension": ".py",
   "mimetype": "text/x-python",
   "name": "python",
   "nbconvert_exporter": "python",
   "pygments_lexer": "ipython3",
   "version": "3.6.5"
  }
 },
 "nbformat": 4,
 "nbformat_minor": 2
}
