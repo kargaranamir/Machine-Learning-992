{
 "cells": [
  {
   "cell_type": "markdown",
   "metadata": {
    "deletable": false,
    "editable": false,
    "heading_collapsed": true,
    "id": "7P66a3NStetI",
    "run_control": {
     "frozen": true
    }
   },
   "source": [
    "# CE-40717: Machine Learning"
   ]
  },
  {
   "cell_type": "markdown",
   "metadata": {},
   "source": [
    "## Student Name: AmirHossein Kargaran Khouzani (stu no: 99201119)"
   ]
  },
  {
   "cell_type": "markdown",
   "metadata": {
    "deletable": false,
    "editable": false,
    "heading_collapsed": true,
    "hidden": true,
    "run_control": {
     "frozen": true
    }
   },
   "source": [
    "## HW4-MultiLayer Perceptron (MLP)"
   ]
  },
  {
   "cell_type": "markdown",
   "metadata": {
    "hidden": true,
    "id": "ZsX3itNwTc8T"
   },
   "source": [
    "The following lines of code will load the [MNIST](http://yann.lecun.com/exdb/mnist/) data and turn them\n",
    "into numpy arrays, you can print their shape if you like.\n",
    "You can also transform the data as you wish, including seperating\n",
    "the training data for cross validation.\n",
    "\n",
    "If you have the data (on google drive or locally) change the root\n",
    "address accordingly, if you don't, set download=True but you might encounter\n",
    "some problems downloading the data."
   ]
  },
  {
   "cell_type": "markdown",
   "metadata": {},
   "source": [
    "## Import libraries"
   ]
  },
  {
   "cell_type": "code",
   "execution_count": 1,
   "metadata": {
    "hidden": true,
    "id": "eRDGolwttJJr"
   },
   "outputs": [],
   "source": [
    "import torchvision.datasets as ds\n",
    "import numpy as np\n",
    "import matplotlib.pyplot as plt"
   ]
  },
  {
   "cell_type": "markdown",
   "metadata": {},
   "source": [
    "## Import data"
   ]
  },
  {
   "cell_type": "code",
   "execution_count": 2,
   "metadata": {},
   "outputs": [],
   "source": [
    "data_train = np.array(ds.MNIST(root=\"./data\", train=True, download=True).data)\n",
    "target_train = np.array(ds.MNIST(root=\"./data\", train=True, download=True).targets)\n",
    "data_test = np.array(ds.MNIST(root=\"./data\", train=False, download=True).data)\n",
    "target_test = np.array(ds.MNIST(root=\"./data\", train=False, download=True).targets)"
   ]
  },
  {
   "cell_type": "markdown",
   "metadata": {},
   "source": [
    "## Reshape data"
   ]
  },
  {
   "cell_type": "code",
   "execution_count": 3,
   "metadata": {},
   "outputs": [
    {
     "name": "stdout",
     "output_type": "stream",
     "text": [
      "Training x matrix shape (784, 60000)\n",
      "Testing x matrix shape (784, 10000)\n",
      "Training y matrix shape (10, 60000)\n",
      "Training y matrix shape (10, 10000)\n"
     ]
    }
   ],
   "source": [
    "x_train = data_train.reshape(60000, 784).T\n",
    "x_test  = data_test.reshape(10000, 784).T\n",
    "x_train = x_train.astype('float32')\n",
    "x_test  = x_test.astype('float32')\n",
    "x_train /= 255 # [0-255] -> [0,1]\n",
    "x_test  /= 255 # [0-255] -> [0,1]\n",
    "y_train = np.eye(10)[target_train].T # One-Hot\n",
    "y_test = np.eye(10)[target_test].T # One-Hot\n",
    "\n",
    "print(\"Training x matrix shape\", x_train.shape)\n",
    "print(\"Testing x matrix shape\", x_test.shape)\n",
    "print(\"Training y matrix shape\", y_train.shape)\n",
    "print(\"Training y matrix shape\", y_test.shape)"
   ]
  },
  {
   "cell_type": "markdown",
   "metadata": {},
   "source": [
    "## Plot some examples and Test labels"
   ]
  },
  {
   "cell_type": "code",
   "execution_count": 4,
   "metadata": {},
   "outputs": [
    {
     "name": "stdout",
     "output_type": "stream",
     "text": [
      "labels: [5 0 4 1 9 2 1 3 1 4]\n"
     ]
    },
    {
     "data": {
      "image/png": "[encoded data removed]",
      "text/plain": [
       "<Figure size 1008x216 with 10 Axes>"
      ]
     },
     "metadata": {},
     "output_type": "display_data"
    }
   ],
   "source": [
    "plot_numbers = 10 \n",
    "plt.figure(1, figsize=(14,3))\n",
    "for i in range(plot_numbers):\n",
    "    plt.subplot(1, plot_numbers, i+1, xticks=[], yticks=[])\n",
    "    plt.imshow(x_train[:,i].reshape(28,28), cmap='gray', interpolation='nearest')\n",
    "print(\"labels:\", target_train[:plot_numbers])    "
   ]
  },
  {
   "cell_type": "markdown",
   "metadata": {
    "deletable": false,
    "editable": false,
    "heading_collapsed": true,
    "hidden": true,
    "id": "OQ0i1tVuT3bb",
    "run_control": {
     "frozen": true
    }
   },
   "source": [
    "### Part1:\n",
    "Complete the functions of the MLP class to create\n",
    "a MultiLayer Perceptron"
   ]
  },
  {
   "cell_type": "code",
   "execution_count": 5,
   "metadata": {},
   "outputs": [],
   "source": [
    "def softMax(x):\n",
    "    e = np.exp(x)\n",
    "    p = e/np.sum(e, axis=0)\n",
    "    return p\n",
    "\n",
    "class MLP:\n",
    "    def __init__(self, in_dimensions, hidden_dimensions, out_dimensions, method = \"sigmoid\"):\n",
    "        self.w1 = np.random.normal(size=(hidden_dimensions, in_dimensions)) / in_dimensions\n",
    "        self.b1 = np.random.normal(size=(hidden_dimensions, 1)) / in_dimensions\n",
    "        self.w2 = np.random.normal(size=(out_dimensions, hidden_dimensions)) / in_dimensions\n",
    "        self.b2 = np.random.normal(size=(out_dimensions, 1)) / in_dimensions\n",
    "\n",
    "        self.method = method \n",
    "\n",
    "    def activation_function(self, x):\n",
    "        if self.method == \"relu\":\n",
    "            return np.maximum(0,x)\n",
    "        elif self.method == \"tanh\":\n",
    "            return np.tanh(x)\n",
    "        else:\n",
    "            return 1./(1.+np.exp(-x))\n",
    "\n",
    "    def activation_derivation(self, x):\n",
    "        if self.method == \"relu\":\n",
    "            return (x > 0) * 1\n",
    "        elif self.method == \"tanh\":\n",
    "            return 1/(np.cosh(x) ** 2)\n",
    "        else:\n",
    "            return np.exp(-x)/(1 + np.exp(-x)) ** 2\n",
    "            \n",
    "        \n",
    "    def cross_entropy(self, y, y_pred, l):\n",
    "        m = y.shape[1]\n",
    "        loss = -(1/m) * np.sum(y * np.log(y_pred)) + l/(2 * m) * (np.sum(self.w1 ** 2) + np.sum(self.w2 ** 2))\n",
    "        return loss\n",
    "\n",
    "    def forward(self, x):\n",
    "        # performed a forward pass of the network and return the result\n",
    "        # Used an activation function for the first layer\n",
    "        # and softmax activation for the output layer\n",
    "        z1 = np.matmul(self.w1, x) + self.b1\n",
    "        a1 = self.activation_function(z1)\n",
    "        z2 = np.matmul(self.w2, a1) + self.b2\n",
    "        a2 = softMax(z2)\n",
    "        return {'z1': z1,\n",
    "                'a1': a1,\n",
    "                'z2': z2,\n",
    "                'a2': a2}\n",
    "\n",
    "\n",
    "    def backward(self, x, y, forward):\n",
    "        # performed a backpropagation on the loss value and compute the gradient \n",
    "        # w.r.t. every element of the network and retain them (i.e. self.w1_backward)\n",
    "        m = x.shape[1]\n",
    "        dz2 = forward['a2'] - y\n",
    "        dw2 = (1/m) * np.matmul(dz2, forward['a1'].T)\n",
    "        db2 = (1/m) * np.sum(dz2, axis=1, keepdims=True)\n",
    "        da1 = np.matmul(self.w2.T, dz2)\n",
    "        dz1 = da1 * self.activation_derivation(forward['z1'])\n",
    "        dw1 = (1/m) * np.matmul(dz1, x.T)\n",
    "        db1 = (1/m) * np.sum(dz1)\n",
    "        return {'dw1': dw1,\n",
    "                'db1': db1,\n",
    "                'dw2': dw2,\n",
    "                'db2': db2}\n",
    "\n",
    "    def step(self, gradient, lr, l, m):\n",
    "        # simply update all the weights using the gradinets computed in backward\n",
    "        # and the given learning rate with SGD\n",
    "        # don't forget to use regularization\n",
    "        self.w1 = self.w1 - lr * gradient['dw1'] - (self.w1 * l * lr)/m\n",
    "        self.b1 = self.b1 - lr * gradient['db1']\n",
    "        self.w2 = self.w2 - lr * gradient['dw2'] - (self.w2 * l * lr)/m\n",
    "        self.b2 = self.b2 - lr * gradient['db2']\n"
   ]
  },
  {
   "cell_type": "markdown",
   "metadata": {
    "deletable": false,
    "editable": false,
    "heading_collapsed": true,
    "hidden": true,
    "id": "EeMLiOlMUC2D",
    "run_control": {
     "frozen": true
    }
   },
   "source": [
    "### Part2:\n",
    "Make instances of your network and train them **using l2 regularization and choose the lambda using k-fold cross validation\n",
    "(set the candidate lambda as you wish)**.\n",
    "\n",
    "You may choose the hyperparameters (i.e. num of epochs, learning rate etc.)\n",
    "as you wish. \n",
    "\n",
    "Then train a final model on all the training data with the chosen lambda.\n"
   ]
  },
  {
   "cell_type": "code",
   "execution_count": 6,
   "metadata": {
    "hidden": true,
    "id": "0Ojg9CSL4vei"
   },
   "outputs": [
    {
     "name": "stdout",
     "output_type": "stream",
     "text": [
      "Lambda: 1, hidden_dim: 100, method: sigmoid\n",
      "Loss: 0.2158 Accuracy: 0.9406\n",
      "Lambda: 1.5, hidden_dim: 100, method: sigmoid\n",
      "Loss: 0.2238 Accuracy: 0.9403\n",
      "Lambda: 2, hidden_dim: 100, method: sigmoid\n",
      "Loss: 0.2327 Accuracy: 0.9395\n",
      "Best lambda is 1 with 0.9406 accuracy\n"
     ]
    }
   ],
   "source": [
    "n_epochs = 1000 # number of epochs\n",
    "batch_size = 10000 #batch size =< 60000\n",
    "lr = 1 # learning rate\n",
    "k = 3 # number of folds\n",
    "in_dim = 784 # MNIST has 28*28 images\n",
    "hidden_dim = 100 # number of hidden dimensions for the hidden layer\n",
    "out_dim = 10 # MNIST has 10 classes\n",
    "fold_len = int(data_train.shape[0]/k)\n",
    "lambdas = [1, 1.5 ,2]\n",
    "method = \"sigmoid\"\n",
    "best_lambda = lambdas[-1]\n",
    "best_acc = 0\n",
    "\n",
    "for l in lambdas:\n",
    "    acc = 0 # accuracy for current lambda\n",
    "    loss = 0 # loss for current lambda\n",
    "    for j in range(k):\n",
    "        temp_loss = []\n",
    "        temp_acc = []\n",
    "        model = MLP(in_dim, hidden_dim, out_dim, method)\n",
    "        total_index = list(range(fold_len*k))\n",
    "        val_index = list(range(j*fold_len,(j+1)*fold_len))\n",
    "        fold_train_index = [x for x in total_index if x not in val_index]\n",
    "\n",
    "        fold_train_set = x_train[:,fold_train_index] # the training data for the current fold\n",
    "        fold_train_target = y_train[:,fold_train_index] # the training targets for the current fold\n",
    "        val_set = x_train[:,val_index] # the validation data for the current fold\n",
    "        val_target = y_train[:,val_index] # the validation targets for the current fold\n",
    "        val_y = target_train[val_index] # the validation targets for the current fold\n",
    "\n",
    "        for i in range(n_epochs):\n",
    "            # train the model on the data with the current lambda\n",
    "            # shuffle batch indices (choose first batch_size examples)\n",
    "            indices = np.random.permutation(fold_train_target.shape[1])[:batch_size]\n",
    "            x, y = fold_train_set[:,indices], fold_train_target[:,indices]\n",
    "            # forward pass\n",
    "            forward = model.forward(x)\n",
    "            # back Prop\n",
    "            gradient = model.backward(x, y, forward)\n",
    "            # updating weights\n",
    "            model.step(gradient, lr, l, x.shape[1])\n",
    "\n",
    "        # test the model on the current validation data\n",
    "        forward = model.forward(val_set)\n",
    "        y_pred = np.argmax(forward['a2'], axis=0)\n",
    "        fold_acc = np.mean(y_pred == val_y) # current fold accuracy\n",
    "        fold_loss = model.cross_entropy(val_target, forward['a2'], l) # current fold loss\n",
    "        temp_acc.append(fold_acc)\n",
    "        temp_loss.append(fold_loss)\n",
    "\n",
    "\n",
    "    print(f\"Lambda: {l}, hidden_dim: {hidden_dim}, method: {method}\")\n",
    "    loss = np.mean(temp_loss)\n",
    "    acc = np.mean(temp_acc)\n",
    "    print(\"Loss: %.4f Accuracy: %.4f\" % (loss, acc))\n",
    "    if acc > best_acc:\n",
    "        best_acc = acc\n",
    "        best_lambda = l\n",
    "\n",
    "print(\"Best lambda is\", best_lambda, \"with %.4f accuracy\" % best_acc)"
   ]
  },
  {
   "cell_type": "markdown",
   "metadata": {
    "deletable": false,
    "editable": false,
    "heading_collapsed": true,
    "hidden": true,
    "id": "6cDg4S27xD5Y",
    "run_control": {
     "frozen": true
    }
   },
   "source": [
    "### Part3:\n",
    "Train a final model using the best lambda on all the training data"
   ]
  },
  {
   "cell_type": "code",
   "execution_count": 7,
   "metadata": {
    "hidden": true,
    "id": "fE1mC1BkxMdt"
   },
   "outputs": [],
   "source": [
    "n_epochs = 1000 # number of epochs\n",
    "lr = 1 # learning rate\n",
    "l = best_lambda  # best_lambda\n",
    "model = MLP(784, 100, 10, 'sigmoid') # new model\n",
    "train_loss_series = []\n",
    "test_loss_series = []\n",
    "train_acc_series = []\n",
    "test_acc_series = []\n",
    "\n",
    "for i in range(n_epochs):\n",
    "    #### training code here ####\n",
    "\n",
    "    #shuffle batch indices\n",
    "    indices = np.random.permutation(x_train.shape[1])\n",
    "    x, y, y_target  = x_train[:,indices], y_train[:,indices], target_train[indices]\n",
    "\n",
    "    #forward pass train\n",
    "    forward_train = model.forward(x)\n",
    "    #acc train\n",
    "    y_pred_train = np.argmax(forward_train['a2'], axis=0)\n",
    "    acc_train = np.mean(y_pred_train == y_target)\n",
    "    #loss train\n",
    "    loss_train = model.cross_entropy(y, forward_train['a2'], l)\n",
    "    \n",
    "    #forward pass test\n",
    "    forward_test = model.forward(x_test)\n",
    "    #acc test\n",
    "    y_pred_test = np.argmax(forward_test['a2'], axis=0)\n",
    "    acc_test = np.mean(y_pred_test == target_test)\n",
    "    #loss test\n",
    "    loss_test = model.cross_entropy(y_test, forward_test['a2'], l)\n",
    "    \n",
    "    #back Propagation\n",
    "    gradient = model.backward(x, y, forward_train)\n",
    "    #update weights\n",
    "    model.step(gradient, lr, l, x.shape[1])\n",
    "\n",
    "    train_loss_series.append(loss_train)\n",
    "    test_loss_series.append(loss_test)\n",
    "    train_acc_series.append(acc_train)\n",
    "    test_acc_series.append(acc_test)"
   ]
  },
  {
   "cell_type": "markdown",
   "metadata": {
    "deletable": false,
    "editable": false,
    "heading_collapsed": true,
    "hidden": true,
    "run_control": {
     "frozen": true
    }
   },
   "source": [
    "### Part4:"
   ]
  },
  {
   "cell_type": "markdown",
   "metadata": {
    "hidden": true,
    "id": "6X8hFKXQUeml"
   },
   "source": [
    "Plot the training loss value and accuracy (mean over all batches each epoch if you're using mini-batches) over epochs\n",
    "for the final model that is trained on all the training data"
   ]
  },
  {
   "cell_type": "code",
   "execution_count": 8,
   "metadata": {
    "hidden": true,
    "id": "_LpeQU225eGi"
   },
   "outputs": [
    {
     "data": {
      "text/plain": [
       "<matplotlib.legend.Legend at 0x7efd7dea7a30>"
      ]
     },
     "execution_count": 8,
     "metadata": {},
     "output_type": "execute_result"
    },
    {
     "data": {
      "image/png": "[encoded data removed]",
      "text/plain": [
       "<Figure size 432x288 with 1 Axes>"
      ]
     },
     "metadata": {
      "needs_background": "light"
     },
     "output_type": "display_data"
    }
   ],
   "source": [
    "plt.plot(train_loss_series, label='train_loss')\n",
    "plt.plot(test_loss_series, label='test_loss')\n",
    "plt.legend()\n"
   ]
  },
  {
   "cell_type": "code",
   "execution_count": 9,
   "metadata": {},
   "outputs": [
    {
     "data": {
      "text/plain": [
       "<matplotlib.legend.Legend at 0x7efd7de11eb0>"
      ]
     },
     "execution_count": 9,
     "metadata": {},
     "output_type": "execute_result"
    },
    {
     "data": {
      "image/png": "[encoded data removed]",
      "text/plain": [
       "<Figure size 432x288 with 1 Axes>"
      ]
     },
     "metadata": {
      "needs_background": "light"
     },
     "output_type": "display_data"
    }
   ],
   "source": [
    "plt.plot(train_acc_series, label='train_acc')\n",
    "plt.plot(test_acc_series, label='test_acc')\n",
    "plt.legend()\n"
   ]
  },
  {
   "cell_type": "markdown",
   "metadata": {
    "hidden": true,
    "id": "WIaBwatyUqmC"
   },
   "source": [
    "Use your network on the test set and report the accuracy, you must get at least 70% accuracy on the test set."
   ]
  },
  {
   "cell_type": "code",
   "execution_count": 10,
   "metadata": {},
   "outputs": [
    {
     "name": "stdout",
     "output_type": "stream",
     "text": [
      "Accuracy: 0.9453\n"
     ]
    }
   ],
   "source": [
    "acc_test = np.mean(y_pred_test == target_test)\n",
    "print(\"Accuracy: %.4f\" % acc_test)"
   ]
  },
  {
   "cell_type": "markdown",
   "metadata": {},
   "source": [
    "Below you can add code cells and improve on the network structure as you see fit (it still must be an MLP), train and test your network and explain why it works better.\n"
   ]
  },
  {
   "cell_type": "markdown",
   "metadata": {},
   "source": [
    "## Hyper Parameter over lambda, method, hidden_dim"
   ]
  },
  {
   "cell_type": "code",
   "execution_count": 11,
   "metadata": {},
   "outputs": [],
   "source": [
    "n_epochs = 1000 # number of epochs\n",
    "batch_size = 10000 #batch size\n",
    "lr = 1 # learning rate\n",
    "k = 3 # number of folds\n",
    "in_dim = 784 # MNIST has 28*28 images\n",
    "hidden_dims = [100, 200, 400] # number of hidden dimensions for the hidden layer\n",
    "out_dim = 10 # MNIST has 10 classes\n",
    "fold_len = int(data_train.shape[0]/k)\n",
    "lambdas = [0.5, 1 ,1.5 ,2]\n",
    "methods = [\"sigmoid\", \"tanh\", \"relu\"]\n",
    "best_lambda = lambdas[-1]\n",
    "best_method = methods[-1]\n",
    "best_hidden_dim = hidden_dims[-1]\n",
    "best_acc = 0\n",
    "\n",
    "for hidden_dim in hidden_dims:\n",
    "    for method in methods:\n",
    "        for l in lambdas:\n",
    "            acc = 0 # accuracy for current lambda\n",
    "            loss = 0 # loss for current lambda\n",
    "            for j in range(k):\n",
    "                temp_loss = []\n",
    "                temp_acc = []\n",
    "                model = MLP(in_dim, hidden_dim, out_dim, method)\n",
    "                total_index = list(range(fold_len*k))\n",
    "                val_index = list(range(j*fold_len,(j+1)*fold_len))\n",
    "                fold_train_index = [x for x in total_index if x not in val_index]\n",
    "\n",
    "                fold_train_set = x_train[:,fold_train_index] # the training data for the current fold\n",
    "                fold_train_target = y_train[:,fold_train_index] # the training targets for the current fold\n",
    "                val_set = x_train[:,val_index]# the validation data for the current fold\n",
    "                val_target = y_train[:,val_index]# the validation targets for the current fold\n",
    "                val_y = target_train[val_index]# the validation targets for the current fold\n",
    "\n",
    "                for i in range(n_epochs):\n",
    "                    # train the model on the data with the current lambda\n",
    "                    # shuffle batch indices (choose first batch_size examples)\n",
    "                    indices = np.random.permutation(fold_train_target.shape[1])[:batch_size]\n",
    "                    x, y = fold_train_set[:,indices], fold_train_target[:,indices]\n",
    "                    # forward pass\n",
    "                    forward = model.forward(x)\n",
    "                    # back Prop\n",
    "                    gradient = model.backward(x, y, forward)\n",
    "                    # updating weights\n",
    "                    model.step(gradient, lr, l, x.shape[1])\n",
    "\n",
    "                # test the model on the current validation data\n",
    "                forward = model.forward(val_set)\n",
    "                y_pred = np.argmax(forward['a2'], axis=0)\n",
    "                fold_acc = np.mean(y_pred == val_y) # current fold accuracy\n",
    "                fold_loss = model.cross_entropy(val_target, forward['a2'], l) # current fold loss\n",
    "                temp_acc.append(fold_acc)\n",
    "                temp_loss.append(fold_loss)\n",
    "\n",
    "\n",
    "#             print(f\"Lambda: {l}, hidden_dim: {hidden_dim}, method: {method}\")\n",
    "            loss = np.mean(temp_loss)\n",
    "            acc = np.mean(temp_acc)\n",
    "#             print(\"Loss: %.4f Accuracy: %.4f\" % (loss, acc))\n",
    "            if acc > best_acc:\n",
    "                best_acc = acc\n",
    "                best_lambda = l\n",
    "                best_hidden_dim = hidden_dim\n",
    "                best_method = method"
   ]
  },
  {
   "cell_type": "code",
   "execution_count": 12,
   "metadata": {},
   "outputs": [],
   "source": [
    "n_epochs = 1000 # number of epochs\n",
    "lr = 1 # learning rate\n",
    "l = 2  # best_lambda\n",
    "model = MLP(784, 100, 10, 'relu') # new model\n",
    "\n",
    "train_loss_series = []\n",
    "test_loss_series = []\n",
    "train_acc_series = []\n",
    "test_acc_series = []\n",
    "\n",
    "for i in range(n_epochs):\n",
    "    #### training code here ####\n",
    "\n",
    "    #shuffle batch indices\n",
    "    indices = np.random.permutation(x_train.shape[1])[:1000]\n",
    "    x, y, y_target  = x_train[:,indices], y_train[:,indices], target_train[indices]\n",
    "\n",
    "    #forward pass train\n",
    "    forward_train = model.forward(x)\n",
    "    #acc train\n",
    "    y_pred_train = np.argmax(forward_train['a2'], axis=0)\n",
    "    acc_train = np.mean(y_pred_train == y_target)\n",
    "    #loss train\n",
    "    loss_train = model.cross_entropy(y, forward_train['a2'], l)\n",
    "    \n",
    "    #forward pass test\n",
    "    forward_test = model.forward(x_test)\n",
    "    #acc test\n",
    "    y_pred_test = np.argmax(forward_test['a2'], axis=0)\n",
    "    acc_test = np.mean(y_pred_test == target_test)\n",
    "    #loss test\n",
    "    loss_test = model.cross_entropy(y_test, forward_test['a2'], l)\n",
    "    \n",
    "    #back Propagation\n",
    "    gradient = model.backward(x, y, forward_train)\n",
    "    #update weights\n",
    "    model.step(gradient, lr, l, x.shape[1])\n",
    "\n",
    "    train_loss_series.append(loss_train)\n",
    "    test_loss_series.append(loss_test)\n",
    "    train_acc_series.append(acc_train)\n",
    "    test_acc_series.append(acc_test)"
   ]
  },
  {
   "cell_type": "code",
   "execution_count": 13,
   "metadata": {},
   "outputs": [
    {
     "name": "stdout",
     "output_type": "stream",
     "text": [
      "Accuracy: 0.9762\n"
     ]
    }
   ],
   "source": [
    "acc_test = np.mean(y_pred_test == target_test)\n",
    "print(\"Accuracy: %.4f\" % acc_test)"
   ]
  }
 ],
 "metadata": {
  "colab": {
   "collapsed_sections": [],
   "name": "ML2021S-HW4-Practical.ipynb",
   "provenance": []
  },
  "kernelspec": {
   "display_name": "Python 3",
   "language": "python",
   "name": "python3"
  },
  "language_info": {
   "codemirror_mode": {
    "name": "ipython",
    "version": 3
   },
   "file_extension": ".py",
   "mimetype": "text/x-python",
   "name": "python",
   "nbconvert_exporter": "python",
   "pygments_lexer": "ipython3",
   "version": "3.6.5"
  },
  "toc": {
   "base_numbering": 1,
   "nav_menu": {},
   "number_sections": true,
   "sideBar": true,
   "skip_h1_title": false,
   "title_cell": "Table of Contents",
   "title_sidebar": "Contents",
   "toc_cell": false,
   "toc_position": {},
   "toc_section_display": true,
   "toc_window_display": false
  },
  "varInspector": {
   "cols": {
    "lenName": 16,
    "lenType": 16,
    "lenVar": 40
   },
   "kernels_config": {
    "python": {
     "delete_cmd_postfix": "",
     "delete_cmd_prefix": "del ",
     "library": "var_list.py",
     "varRefreshCmd": "print(var_dic_list())"
    },
    "r": {
     "delete_cmd_postfix": ") ",
     "delete_cmd_prefix": "rm(",
     "library": "var_list.r",
     "varRefreshCmd": "cat(var_dic_list()) "
    }
   },
   "types_to_exclude": [
    "module",
    "function",
    "builtin_function_or_method",
    "instance",
    "_Feature"
   ],
   "window_display": false
  }
 },
 "nbformat": 4,
 "nbformat_minor": 1
}
